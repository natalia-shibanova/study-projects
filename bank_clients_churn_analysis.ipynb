{
 "cells": [
  {
   "cell_type": "markdown",
   "metadata": {},
   "source": [
    "# Project Title: Customer Churn Analysis for \"Metanprom\" Bank"
   ]
  },
  {
   "cell_type": "markdown",
   "metadata": {},
   "source": [
    "# Project Objective:\n",
    "Identify churn segments and provide recommendations to reduce customer churn for the bank."
   ]
  },
  {
   "cell_type": "markdown",
   "metadata": {},
   "source": [
    "# Data Description:\n",
    "The dataset contains information about customers of the \"Metanprom\" bank. The bank is located in Yaroslavl and surrounding cities: Rostov Veliky and Rybinsk.\n",
    "\n",
    "Columns:\n",
    "\n",
    "- USERID — User identifier\n",
    "- score — Credit score\n",
    "- city — City\n",
    "- gender — Gender\n",
    "- age — Age\n",
    "- equity — Amount of equity points\n",
    "- balance — Account balance\n",
    "- products — Number of products the customer uses\n",
    "- credit_card — Whether the customer has a credit card\n",
    "- last_activity — Active customer\n",
    "- EST_SALARY — Estimated customer income\n",
    "- churn — Churn indicator."
   ]
  },
  {
   "cell_type": "markdown",
   "metadata": {},
   "source": [
    "# Decomposition (Research Plan):\n",
    "\n",
    "1. **Data Loading and Description**\n",
    "  \n",
    "2. **Data Preparation:**\n",
    "   - Analyze the nature of missing values and handle them.\n",
    "   - Encoding (for use in correlation analysis).\n",
    "\n",
    "3. **EDA (Exploratory Data Analysis):**\n",
    "   - Analyze the distribution of features, including in the context of churn. For continuous variables, identify churn intervals; for categorical variables, find values with a churn rate higher than the bank's average.\n",
    "   - Correlation analysis and interpretation.\n",
    "\n",
    "4. **Testing Two Statistical Hypotheses:**\n",
    "   - One hypothesis involves testing the difference in income between customers who churned and those who stayed.\n",
    "\n",
    "5. **Intermediate Conclusions:**\n",
    "   - Summarize the results of the EDA, correlation analysis, and hypothesis testing. Identify features that influence customer churn.\n",
    "\n",
    "6. **Segmentation:**\n",
    "   - Identify three segments (each including at least 500 customers) where the churn rate is higher than the bank's average churn rate.\n",
    "\n",
    "\n",
    "7. **Formulation of Targeted Recommendations:**\n",
    "   - Develop targeted recommendations for working with the identified segments.\n",
    "\n",
    "\n",
    "\n",
    "\n"
   ]
  },
  {
   "cell_type": "markdown",
   "metadata": {},
   "source": [
    "## Data Loading and Description"
   ]
  },
  {
   "cell_type": "code",
   "execution_count": 1,
   "metadata": {},
   "outputs": [
    {
     "name": "stdout",
     "output_type": "stream",
     "text": [
      "Collecting phik\n",
      "  Downloading phik-0.12.4-cp39-cp39-manylinux_2_17_x86_64.manylinux2014_x86_64.whl (686 kB)\n",
      "\u001b[K     |████████████████████████████████| 686 kB 2.4 MB/s eta 0:00:01\n",
      "\u001b[?25hRequirement already satisfied: matplotlib>=2.2.3 in /opt/conda/lib/python3.9/site-packages (from phik) (3.3.4)\n",
      "Requirement already satisfied: scipy>=1.5.2 in /opt/conda/lib/python3.9/site-packages (from phik) (1.9.1)\n",
      "Requirement already satisfied: numpy>=1.18.0 in /opt/conda/lib/python3.9/site-packages (from phik) (1.21.1)\n",
      "Requirement already satisfied: joblib>=0.14.1 in /opt/conda/lib/python3.9/site-packages (from phik) (1.1.0)\n",
      "Requirement already satisfied: pandas>=0.25.1 in /opt/conda/lib/python3.9/site-packages (from phik) (1.2.4)\n",
      "Requirement already satisfied: cycler>=0.10 in /opt/conda/lib/python3.9/site-packages (from matplotlib>=2.2.3->phik) (0.11.0)\n",
      "Requirement already satisfied: pillow>=6.2.0 in /opt/conda/lib/python3.9/site-packages (from matplotlib>=2.2.3->phik) (8.4.0)\n",
      "Requirement already satisfied: pyparsing!=2.0.4,!=2.1.2,!=2.1.6,>=2.0.3 in /opt/conda/lib/python3.9/site-packages (from matplotlib>=2.2.3->phik) (2.4.7)\n",
      "Requirement already satisfied: kiwisolver>=1.0.1 in /opt/conda/lib/python3.9/site-packages (from matplotlib>=2.2.3->phik) (1.4.4)\n",
      "Requirement already satisfied: python-dateutil>=2.1 in /opt/conda/lib/python3.9/site-packages (from matplotlib>=2.2.3->phik) (2.8.1)\n",
      "Requirement already satisfied: pytz>=2017.3 in /opt/conda/lib/python3.9/site-packages (from pandas>=0.25.1->phik) (2021.1)\n",
      "Requirement already satisfied: six>=1.5 in /opt/conda/lib/python3.9/site-packages (from python-dateutil>=2.1->matplotlib>=2.2.3->phik) (1.16.0)\n",
      "Installing collected packages: phik\n",
      "Successfully installed phik-0.12.4\n",
      "Note: you may need to restart the kernel to use updated packages.\n"
     ]
    }
   ],
   "source": [
    "pip install phik"
   ]
  },
  {
   "cell_type": "code",
   "execution_count": 2,
   "metadata": {},
   "outputs": [],
   "source": [
    "import pandas as pd\n",
    "import seaborn as sns\n",
    "import matplotlib.pyplot as plt\n",
    "import numpy as np\n",
    "import scipy.stats as st\n",
    "import math\n",
    "import itertools\n",
    "import phik\n",
    "from phik import resources, report\n",
    "from phik.report import plot_correlation_matrix\n",
    "from scipy.stats import mannwhitneyu"
   ]
  },
  {
   "cell_type": "code",
   "execution_count": 3,
   "metadata": {},
   "outputs": [],
   "source": [
    "df = pd.read_csv('/datasets/bank_scrooge.csv')"
   ]
  },
  {
   "cell_type": "code",
   "execution_count": 4,
   "metadata": {},
   "outputs": [
    {
     "data": {
      "text/html": [
       "<div>\n",
       "<style scoped>\n",
       "    .dataframe tbody tr th:only-of-type {\n",
       "        vertical-align: middle;\n",
       "    }\n",
       "\n",
       "    .dataframe tbody tr th {\n",
       "        vertical-align: top;\n",
       "    }\n",
       "\n",
       "    .dataframe thead th {\n",
       "        text-align: right;\n",
       "    }\n",
       "</style>\n",
       "<table border=\"1\" class=\"dataframe\">\n",
       "  <thead>\n",
       "    <tr style=\"text-align: right;\">\n",
       "      <th></th>\n",
       "      <th>USERID</th>\n",
       "      <th>score</th>\n",
       "      <th>city</th>\n",
       "      <th>gender</th>\n",
       "      <th>age</th>\n",
       "      <th>equity</th>\n",
       "      <th>balance</th>\n",
       "      <th>products</th>\n",
       "      <th>credit_card</th>\n",
       "      <th>last_activity</th>\n",
       "      <th>EST_SALARY</th>\n",
       "      <th>churn</th>\n",
       "    </tr>\n",
       "  </thead>\n",
       "  <tbody>\n",
       "    <tr>\n",
       "      <th>0</th>\n",
       "      <td>183012</td>\n",
       "      <td>850.0</td>\n",
       "      <td>Рыбинск</td>\n",
       "      <td>Ж</td>\n",
       "      <td>25.0</td>\n",
       "      <td>1</td>\n",
       "      <td>59214.82</td>\n",
       "      <td>2</td>\n",
       "      <td>0</td>\n",
       "      <td>1</td>\n",
       "      <td>75719.14</td>\n",
       "      <td>1</td>\n",
       "    </tr>\n",
       "    <tr>\n",
       "      <th>1</th>\n",
       "      <td>146556</td>\n",
       "      <td>861.0</td>\n",
       "      <td>Рыбинск</td>\n",
       "      <td>Ж</td>\n",
       "      <td>37.0</td>\n",
       "      <td>5</td>\n",
       "      <td>850594.33</td>\n",
       "      <td>3</td>\n",
       "      <td>1</td>\n",
       "      <td>0</td>\n",
       "      <td>86621.77</td>\n",
       "      <td>0</td>\n",
       "    </tr>\n",
       "    <tr>\n",
       "      <th>2</th>\n",
       "      <td>120722</td>\n",
       "      <td>892.0</td>\n",
       "      <td>Рыбинск</td>\n",
       "      <td>Ж</td>\n",
       "      <td>30.0</td>\n",
       "      <td>0</td>\n",
       "      <td>NaN</td>\n",
       "      <td>1</td>\n",
       "      <td>1</td>\n",
       "      <td>1</td>\n",
       "      <td>107683.34</td>\n",
       "      <td>0</td>\n",
       "    </tr>\n",
       "    <tr>\n",
       "      <th>3</th>\n",
       "      <td>225363</td>\n",
       "      <td>866.0</td>\n",
       "      <td>Ярославль</td>\n",
       "      <td>Ж</td>\n",
       "      <td>51.0</td>\n",
       "      <td>5</td>\n",
       "      <td>1524746.26</td>\n",
       "      <td>2</td>\n",
       "      <td>0</td>\n",
       "      <td>1</td>\n",
       "      <td>174423.53</td>\n",
       "      <td>1</td>\n",
       "    </tr>\n",
       "    <tr>\n",
       "      <th>4</th>\n",
       "      <td>157978</td>\n",
       "      <td>730.0</td>\n",
       "      <td>Ярославль</td>\n",
       "      <td>М</td>\n",
       "      <td>34.0</td>\n",
       "      <td>5</td>\n",
       "      <td>174.00</td>\n",
       "      <td>1</td>\n",
       "      <td>1</td>\n",
       "      <td>0</td>\n",
       "      <td>67353.16</td>\n",
       "      <td>1</td>\n",
       "    </tr>\n",
       "    <tr>\n",
       "      <th>5</th>\n",
       "      <td>202305</td>\n",
       "      <td>856.0</td>\n",
       "      <td>Рыбинск</td>\n",
       "      <td>М</td>\n",
       "      <td>56.0</td>\n",
       "      <td>4</td>\n",
       "      <td>863687.24</td>\n",
       "      <td>3</td>\n",
       "      <td>1</td>\n",
       "      <td>0</td>\n",
       "      <td>156619.80</td>\n",
       "      <td>0</td>\n",
       "    </tr>\n",
       "    <tr>\n",
       "      <th>6</th>\n",
       "      <td>177259</td>\n",
       "      <td>807.0</td>\n",
       "      <td>Ярославль</td>\n",
       "      <td>Ж</td>\n",
       "      <td>39.0</td>\n",
       "      <td>3</td>\n",
       "      <td>405042.44</td>\n",
       "      <td>3</td>\n",
       "      <td>0</td>\n",
       "      <td>1</td>\n",
       "      <td>103838.32</td>\n",
       "      <td>0</td>\n",
       "    </tr>\n",
       "    <tr>\n",
       "      <th>7</th>\n",
       "      <td>218868</td>\n",
       "      <td>825.0</td>\n",
       "      <td>Ярославль</td>\n",
       "      <td>Ж</td>\n",
       "      <td>38.0</td>\n",
       "      <td>4</td>\n",
       "      <td>458145.40</td>\n",
       "      <td>2</td>\n",
       "      <td>1</td>\n",
       "      <td>1</td>\n",
       "      <td>68085.48</td>\n",
       "      <td>0</td>\n",
       "    </tr>\n",
       "    <tr>\n",
       "      <th>8</th>\n",
       "      <td>211686</td>\n",
       "      <td>923.0</td>\n",
       "      <td>Ярославль</td>\n",
       "      <td>М</td>\n",
       "      <td>54.0</td>\n",
       "      <td>5</td>\n",
       "      <td>1206337.87</td>\n",
       "      <td>2</td>\n",
       "      <td>1</td>\n",
       "      <td>0</td>\n",
       "      <td>155371.79</td>\n",
       "      <td>0</td>\n",
       "    </tr>\n",
       "    <tr>\n",
       "      <th>9</th>\n",
       "      <td>133130</td>\n",
       "      <td>906.0</td>\n",
       "      <td>Ярославль</td>\n",
       "      <td>Ж</td>\n",
       "      <td>67.0</td>\n",
       "      <td>0</td>\n",
       "      <td>NaN</td>\n",
       "      <td>1</td>\n",
       "      <td>0</td>\n",
       "      <td>1</td>\n",
       "      <td>238055.53</td>\n",
       "      <td>0</td>\n",
       "    </tr>\n",
       "  </tbody>\n",
       "</table>\n",
       "</div>"
      ],
      "text/plain": [
       "   USERID  score       city gender   age  equity     balance  products  \\\n",
       "0  183012  850.0    Рыбинск      Ж  25.0       1    59214.82         2   \n",
       "1  146556  861.0    Рыбинск      Ж  37.0       5   850594.33         3   \n",
       "2  120722  892.0    Рыбинск      Ж  30.0       0         NaN         1   \n",
       "3  225363  866.0  Ярославль      Ж  51.0       5  1524746.26         2   \n",
       "4  157978  730.0  Ярославль      М  34.0       5      174.00         1   \n",
       "5  202305  856.0    Рыбинск      М  56.0       4   863687.24         3   \n",
       "6  177259  807.0  Ярославль      Ж  39.0       3   405042.44         3   \n",
       "7  218868  825.0  Ярославль      Ж  38.0       4   458145.40         2   \n",
       "8  211686  923.0  Ярославль      М  54.0       5  1206337.87         2   \n",
       "9  133130  906.0  Ярославль      Ж  67.0       0         NaN         1   \n",
       "\n",
       "   credit_card  last_activity  EST_SALARY  churn  \n",
       "0            0              1    75719.14      1  \n",
       "1            1              0    86621.77      0  \n",
       "2            1              1   107683.34      0  \n",
       "3            0              1   174423.53      1  \n",
       "4            1              0    67353.16      1  \n",
       "5            1              0   156619.80      0  \n",
       "6            0              1   103838.32      0  \n",
       "7            1              1    68085.48      0  \n",
       "8            1              0   155371.79      0  \n",
       "9            0              1   238055.53      0  "
      ]
     },
     "execution_count": 4,
     "metadata": {},
     "output_type": "execute_result"
    }
   ],
   "source": [
    "df.head(10)"
   ]
  },
  {
   "cell_type": "code",
   "execution_count": 5,
   "metadata": {},
   "outputs": [
    {
     "name": "stdout",
     "output_type": "stream",
     "text": [
      "<class 'pandas.core.frame.DataFrame'>\n",
      "RangeIndex: 10000 entries, 0 to 9999\n",
      "Data columns (total 12 columns):\n",
      " #   Column         Non-Null Count  Dtype  \n",
      "---  ------         --------------  -----  \n",
      " 0   USERID         10000 non-null  int64  \n",
      " 1   score          10000 non-null  float64\n",
      " 2   city           10000 non-null  object \n",
      " 3   gender         10000 non-null  object \n",
      " 4   age            9974 non-null   float64\n",
      " 5   equity         10000 non-null  int64  \n",
      " 6   balance        7705 non-null   float64\n",
      " 7   products       10000 non-null  int64  \n",
      " 8   credit_card    10000 non-null  int64  \n",
      " 9   last_activity  10000 non-null  int64  \n",
      " 10  EST_SALARY     10000 non-null  float64\n",
      " 11  churn          10000 non-null  int64  \n",
      "dtypes: float64(4), int64(6), object(2)\n",
      "memory usage: 937.6+ KB\n"
     ]
    }
   ],
   "source": [
    "df.info()"
   ]
  },
  {
   "cell_type": "markdown",
   "metadata": {},
   "source": [
    "Data Loading and Description:\n",
    "\n",
    "The dataset consists of 10,000 rows.\n",
    "Missing values are present in the columns age and balance.\n",
    "Data types for all columns are correct."
   ]
  },
  {
   "cell_type": "markdown",
   "metadata": {},
   "source": [
    "Convert column names to snake_case."
   ]
  },
  {
   "cell_type": "code",
   "execution_count": 6,
   "metadata": {},
   "outputs": [],
   "source": [
    "df.rename(columns = {'USERID':'user_id', 'EST_SALARY':'est_salary'}, inplace = True)"
   ]
  },
  {
   "cell_type": "code",
   "execution_count": 7,
   "metadata": {},
   "outputs": [
    {
     "data": {
      "text/plain": [
       "Index(['user_id', 'score', 'city', 'gender', 'age', 'equity', 'balance',\n",
       "       'products', 'credit_card', 'last_activity', 'est_salary', 'churn'],\n",
       "      dtype='object')"
      ]
     },
     "execution_count": 7,
     "metadata": {},
     "output_type": "execute_result"
    }
   ],
   "source": [
    "df.columns"
   ]
  },
  {
   "cell_type": "markdown",
   "metadata": {},
   "source": [
    "## Data Preparation"
   ]
  },
  {
   "cell_type": "markdown",
   "metadata": {},
   "source": [
    "Check for Complete Duplicates in the Data"
   ]
  },
  {
   "cell_type": "code",
   "execution_count": 8,
   "metadata": {},
   "outputs": [
    {
     "data": {
      "text/plain": [
       "0"
      ]
     },
     "execution_count": 8,
     "metadata": {},
     "output_type": "execute_result"
    }
   ],
   "source": [
    "df.duplicated().sum()"
   ]
  },
  {
   "cell_type": "markdown",
   "metadata": {},
   "source": [
    "No complete duplicates were found. Next, we will check for implicit duplicates by user_id."
   ]
  },
  {
   "cell_type": "code",
   "execution_count": 9,
   "metadata": {},
   "outputs": [
    {
     "name": "stdout",
     "output_type": "stream",
     "text": [
      "Отсортированные дублированные строки по user_id:\n",
      "      user_id  score       city gender   age  equity      balance  products  \\\n",
      "1893   116540  883.0    Рыбинск      Ж  55.0       1    362756.49         3   \n",
      "7694   116540  887.0  Ярославль      Ж  38.0       0          NaN         1   \n",
      "7542   117943  880.0  Ярославль      Ж  40.0       0          NaN         1   \n",
      "4866   117943  855.0    Рыбинск      Ж  32.0       6   1036832.93         4   \n",
      "5896   120258  905.0  Ярославль      М  30.0       0          NaN         1   \n",
      "...       ...    ...        ...    ...   ...     ...          ...       ...   \n",
      "2597   226719  990.0  Ярославль      М  37.0       4  14648692.14         2   \n",
      "8205   227795  840.0    Рыбинск      М  34.0       2    350768.03         1   \n",
      "8497   227795  839.0  Ярославль      М  34.0       2    326593.14         2   \n",
      "6457   228075  839.0    Рыбинск      М  39.0       5    507199.85         3   \n",
      "1247   228075  932.0  Ярославль      М   NaN       5   7601719.20         2   \n",
      "\n",
      "      credit_card  last_activity  est_salary  churn  \n",
      "1893            0              1   175920.48      1  \n",
      "7694            0              1   119247.61      0  \n",
      "7542            1              0   137718.93      0  \n",
      "4866            1              1   107792.71      1  \n",
      "5896            1              1   146427.96      0  \n",
      "...           ...            ...         ...    ...  \n",
      "2597            0              0   934412.61      1  \n",
      "8205            1              0   102036.14      1  \n",
      "8497            1              0   103314.92      0  \n",
      "6457            0              1    85195.80      0  \n",
      "1247            1              1   408121.16      0  \n",
      "\n",
      "[146 rows x 12 columns]\n"
     ]
    }
   ],
   "source": [
    "duplicated_rows = df[df.duplicated(subset=['user_id'], keep=False)]\n",
    "sorted_duplicated_rows = duplicated_rows.sort_values(by='user_id')\n",
    "print(\"Отсортированные дублированные строки по user_id:\")\n",
    "print(sorted_duplicated_rows)"
   ]
  },
  {
   "cell_type": "markdown",
   "metadata": {},
   "source": [
    "146 duplicates were identified by user_id. We will examine these duplicates."
   ]
  },
  {
   "cell_type": "code",
   "execution_count": 10,
   "metadata": {},
   "outputs": [
    {
     "data": {
      "text/plain": [
       "array(['Рыбинск', 'Ярославль'], dtype=object)"
      ]
     },
     "execution_count": 10,
     "metadata": {},
     "output_type": "execute_result"
    }
   ],
   "source": [
    "sorted_duplicated_rows['city'].unique()"
   ]
  },
  {
   "cell_type": "markdown",
   "metadata": {},
   "source": [
    "The same user_id is assigned to different bank customers in the cities of Rybinsk and Yaroslavl. Therefore, these records are not actual duplicates. "
   ]
  },
  {
   "cell_type": "markdown",
   "metadata": {},
   "source": [
    "Examine Missing Values in the age and balance Columns:\n",
    "\n",
    "Analyze the relationship between missing values and other features by creating a new indicator variable.\n",
    "First, use pd.get_dummies() to encode unordered categorical variables such as age and gender. This will preserve the original columns and add new binary columns for each category value."
   ]
  },
  {
   "cell_type": "code",
   "execution_count": 11,
   "metadata": {},
   "outputs": [],
   "source": [
    "df_encoded = pd.get_dummies(df, columns=['gender', 'city'], drop_first=True)"
   ]
  },
  {
   "cell_type": "code",
   "execution_count": 12,
   "metadata": {},
   "outputs": [
    {
     "data": {
      "text/html": [
       "<div>\n",
       "<style scoped>\n",
       "    .dataframe tbody tr th:only-of-type {\n",
       "        vertical-align: middle;\n",
       "    }\n",
       "\n",
       "    .dataframe tbody tr th {\n",
       "        vertical-align: top;\n",
       "    }\n",
       "\n",
       "    .dataframe thead th {\n",
       "        text-align: right;\n",
       "    }\n",
       "</style>\n",
       "<table border=\"1\" class=\"dataframe\">\n",
       "  <thead>\n",
       "    <tr style=\"text-align: right;\">\n",
       "      <th></th>\n",
       "      <th>user_id</th>\n",
       "      <th>score</th>\n",
       "      <th>age</th>\n",
       "      <th>equity</th>\n",
       "      <th>balance</th>\n",
       "      <th>products</th>\n",
       "      <th>credit_card</th>\n",
       "      <th>last_activity</th>\n",
       "      <th>est_salary</th>\n",
       "      <th>churn</th>\n",
       "      <th>gender_М</th>\n",
       "      <th>city_Рыбинск</th>\n",
       "      <th>city_Ярославль</th>\n",
       "    </tr>\n",
       "  </thead>\n",
       "  <tbody>\n",
       "    <tr>\n",
       "      <th>0</th>\n",
       "      <td>183012</td>\n",
       "      <td>850.0</td>\n",
       "      <td>25.0</td>\n",
       "      <td>1</td>\n",
       "      <td>59214.82</td>\n",
       "      <td>2</td>\n",
       "      <td>0</td>\n",
       "      <td>1</td>\n",
       "      <td>75719.14</td>\n",
       "      <td>1</td>\n",
       "      <td>0</td>\n",
       "      <td>1</td>\n",
       "      <td>0</td>\n",
       "    </tr>\n",
       "    <tr>\n",
       "      <th>1</th>\n",
       "      <td>146556</td>\n",
       "      <td>861.0</td>\n",
       "      <td>37.0</td>\n",
       "      <td>5</td>\n",
       "      <td>850594.33</td>\n",
       "      <td>3</td>\n",
       "      <td>1</td>\n",
       "      <td>0</td>\n",
       "      <td>86621.77</td>\n",
       "      <td>0</td>\n",
       "      <td>0</td>\n",
       "      <td>1</td>\n",
       "      <td>0</td>\n",
       "    </tr>\n",
       "    <tr>\n",
       "      <th>2</th>\n",
       "      <td>120722</td>\n",
       "      <td>892.0</td>\n",
       "      <td>30.0</td>\n",
       "      <td>0</td>\n",
       "      <td>NaN</td>\n",
       "      <td>1</td>\n",
       "      <td>1</td>\n",
       "      <td>1</td>\n",
       "      <td>107683.34</td>\n",
       "      <td>0</td>\n",
       "      <td>0</td>\n",
       "      <td>1</td>\n",
       "      <td>0</td>\n",
       "    </tr>\n",
       "    <tr>\n",
       "      <th>3</th>\n",
       "      <td>225363</td>\n",
       "      <td>866.0</td>\n",
       "      <td>51.0</td>\n",
       "      <td>5</td>\n",
       "      <td>1524746.26</td>\n",
       "      <td>2</td>\n",
       "      <td>0</td>\n",
       "      <td>1</td>\n",
       "      <td>174423.53</td>\n",
       "      <td>1</td>\n",
       "      <td>0</td>\n",
       "      <td>0</td>\n",
       "      <td>1</td>\n",
       "    </tr>\n",
       "    <tr>\n",
       "      <th>4</th>\n",
       "      <td>157978</td>\n",
       "      <td>730.0</td>\n",
       "      <td>34.0</td>\n",
       "      <td>5</td>\n",
       "      <td>174.00</td>\n",
       "      <td>1</td>\n",
       "      <td>1</td>\n",
       "      <td>0</td>\n",
       "      <td>67353.16</td>\n",
       "      <td>1</td>\n",
       "      <td>1</td>\n",
       "      <td>0</td>\n",
       "      <td>1</td>\n",
       "    </tr>\n",
       "  </tbody>\n",
       "</table>\n",
       "</div>"
      ],
      "text/plain": [
       "   user_id  score   age  equity     balance  products  credit_card  \\\n",
       "0   183012  850.0  25.0       1    59214.82         2            0   \n",
       "1   146556  861.0  37.0       5   850594.33         3            1   \n",
       "2   120722  892.0  30.0       0         NaN         1            1   \n",
       "3   225363  866.0  51.0       5  1524746.26         2            0   \n",
       "4   157978  730.0  34.0       5      174.00         1            1   \n",
       "\n",
       "   last_activity  est_salary  churn  gender_М  city_Рыбинск  city_Ярославль  \n",
       "0              1    75719.14      1         0             1               0  \n",
       "1              0    86621.77      0         0             1               0  \n",
       "2              1   107683.34      0         0             1               0  \n",
       "3              1   174423.53      1         0             0               1  \n",
       "4              0    67353.16      1         1             0               1  "
      ]
     },
     "execution_count": 12,
     "metadata": {},
     "output_type": "execute_result"
    }
   ],
   "source": [
    "df_encoded.head()"
   ]
  },
  {
   "cell_type": "markdown",
   "metadata": {},
   "source": []
  },
  {
   "cell_type": "markdown",
   "metadata": {},
   "source": [
    "Now we can use these features to assess if there is any dependency between missing values and other features, such as average salary, average age, median number of products, and average credit score.\n",
    "\n",
    "Create a new indicator variable for each column with missing values (age and balance). This indicator will take the value 1 if the value is missing and 0 if the value is present."
   ]
  },
  {
   "cell_type": "code",
   "execution_count": 13,
   "metadata": {},
   "outputs": [],
   "source": [
    "df_encoded['age_missing'] = df_encoded['age'].isna().astype(int)\n",
    "df_encoded['balance_missing'] = df_encoded['balance'].isna().astype(int)"
   ]
  },
  {
   "cell_type": "markdown",
   "metadata": {},
   "source": [
    "Create a Pivot Table to Show How Average Values of Other Variables Change Depending on the Presence or Absence of Missing Values in age and balance:"
   ]
  },
  {
   "cell_type": "code",
   "execution_count": 14,
   "metadata": {},
   "outputs": [
    {
     "name": "stdout",
     "output_type": "stream",
     "text": [
      "                                   age     est_salary  products       score\n",
      "age_missing balance_missing                                                \n",
      "0           0                42.924366  124520.394264         2  843.744120\n",
      "            1                42.093023  226345.417464         1  865.357174\n",
      "1           0                      NaN  110249.272000         2  840.000000\n",
      "            1                      NaN  221295.153750         1  864.625000\n"
     ]
    }
   ],
   "source": [
    "pivot_table = df_encoded.pivot_table(\n",
    "    values=['score', 'age', 'products', 'est_salary'], \n",
    "    index=['age_missing', 'balance_missing'], \n",
    "    aggfunc={'score': 'mean', 'age': 'mean', 'products': 'median', 'est_salary': 'mean'}\n",
    ")\n",
    "\n",
    "print(pivot_table)\n"
   ]
  },
  {
   "cell_type": "markdown",
   "metadata": {},
   "source": [
    "Missing values in age occur together with missing values in balance, as indicated by the matching NaNs in rows where age_missing=1. This suggests a potential joint occurrence of missing values in these two features, but missing values in age do not significantly depend on other features by themselves. The average salary is significantly higher for records with missing values in balance. Customers with missing values in balance tend to have higher average credit scores (score), which is also reflected in the data. The number of products (products) is lower for records with missing balance."
   ]
  },
  {
   "cell_type": "markdown",
   "metadata": {},
   "source": [
    "\n",
    "The correlation matrix will allow us to see how strongly missing values in age and balance correlate with other variables."
   ]
  },
  {
   "cell_type": "code",
   "execution_count": 15,
   "metadata": {},
   "outputs": [
    {
     "data": {
      "image/png": "[encoded data removed]",
      "text/plain": [
       "<Figure size 864x576 with 2 Axes>"
      ]
     },
     "metadata": {
      "needs_background": "light"
     },
     "output_type": "display_data"
    }
   ],
   "source": [
    "correlation_matrix = df_encoded.corr()\n",
    "plt.figure(figsize=(12, 8)) \n",
    "sns.heatmap(correlation_matrix[['age_missing', 'balance_missing']], annot=True, fmt=\".2f\", cmap='coolwarm', center=0)\n",
    "plt.title('Correlation Matrix Heatmap')\n",
    "plt.show()"
   ]
  },
  {
   "cell_type": "markdown",
   "metadata": {},
   "source": [
    "Missing values in `age` do not show significant correlation with other features, as all correlation values are close to zero. This may suggest that missing values in `age` are random (MCAR) and do not depend on other features. Missing values in `balance` have a significant negative correlation with `equity` (-0.71) and `products` (-0.49), indicating a strong dependency. This may imply that customers with high levels of equity and a large number of products are less likely to have missing values in `balance`. Missing values in `balance` also have a positive correlation with `EST_SALARY` (0.31) and `credit_card` (0.16), suggesting that customers with higher salaries and those who have a credit card are more likely to have missing values in `balance`."
   ]
  },
  {
   "cell_type": "markdown",
   "metadata": {},
   "source": [
    "Missing Data Analysis: Missing values in age are likely random (MCAR) as they do not depend on other variables. Missing values in balance are likely not random (MNAR or MAR) as they show significant correlations with equity, products, and positively correlate with EST_SALARY and credit_card. This suggests a potential relationship between these features and the presence of missing values. We will retain the missing values in balance as they are.\n",
    "\n",
    "Duplicate Analysis: There are no complete duplicates in the data. There are 146 duplicates based on user_id, but they belong to different customers in the cities of Rybinsk and Yaroslavl, meaning these records are not actual duplicates."
   ]
  },
  {
   "cell_type": "markdown",
   "metadata": {},
   "source": [
    "## Exploratory Data Analysis"
   ]
  },
  {
   "cell_type": "markdown",
   "metadata": {},
   "source": [
    "Let's examine the average bank customer."
   ]
  },
  {
   "cell_type": "code",
   "execution_count": 16,
   "metadata": {},
   "outputs": [
    {
     "data": {
      "text/html": [
       "<div>\n",
       "<style scoped>\n",
       "    .dataframe tbody tr th:only-of-type {\n",
       "        vertical-align: middle;\n",
       "    }\n",
       "\n",
       "    .dataframe tbody tr th {\n",
       "        vertical-align: top;\n",
       "    }\n",
       "\n",
       "    .dataframe thead th {\n",
       "        text-align: right;\n",
       "    }\n",
       "</style>\n",
       "<table border=\"1\" class=\"dataframe\">\n",
       "  <thead>\n",
       "    <tr style=\"text-align: right;\">\n",
       "      <th></th>\n",
       "      <th>user_id</th>\n",
       "      <th>score</th>\n",
       "      <th>age</th>\n",
       "      <th>equity</th>\n",
       "      <th>balance</th>\n",
       "      <th>products</th>\n",
       "      <th>credit_card</th>\n",
       "      <th>last_activity</th>\n",
       "      <th>est_salary</th>\n",
       "      <th>churn</th>\n",
       "      <th>gender_М</th>\n",
       "      <th>city_Рыбинск</th>\n",
       "      <th>city_Ярославль</th>\n",
       "      <th>age_missing</th>\n",
       "      <th>balance_missing</th>\n",
       "    </tr>\n",
       "  </thead>\n",
       "  <tbody>\n",
       "    <tr>\n",
       "      <th>count</th>\n",
       "      <td>10000.00000</td>\n",
       "      <td>10000.000000</td>\n",
       "      <td>9974.000000</td>\n",
       "      <td>10000.000000</td>\n",
       "      <td>7.705000e+03</td>\n",
       "      <td>10000.000000</td>\n",
       "      <td>10000.000000</td>\n",
       "      <td>10000.000000</td>\n",
       "      <td>1.000000e+04</td>\n",
       "      <td>10000.000000</td>\n",
       "      <td>10000.000000</td>\n",
       "      <td>10000.000000</td>\n",
       "      <td>10000.000000</td>\n",
       "      <td>10000.000000</td>\n",
       "      <td>10000.000000</td>\n",
       "    </tr>\n",
       "    <tr>\n",
       "      <th>mean</th>\n",
       "      <td>171814.71260</td>\n",
       "      <td>848.699400</td>\n",
       "      <td>42.734409</td>\n",
       "      <td>2.627600</td>\n",
       "      <td>8.277943e+05</td>\n",
       "      <td>1.870100</td>\n",
       "      <td>0.680400</td>\n",
       "      <td>0.523500</td>\n",
       "      <td>1.478669e+05</td>\n",
       "      <td>0.182000</td>\n",
       "      <td>0.500500</td>\n",
       "      <td>0.269500</td>\n",
       "      <td>0.588800</td>\n",
       "      <td>0.002600</td>\n",
       "      <td>0.229500</td>\n",
       "    </tr>\n",
       "    <tr>\n",
       "      <th>std</th>\n",
       "      <td>33708.23812</td>\n",
       "      <td>65.448519</td>\n",
       "      <td>12.179971</td>\n",
       "      <td>1.980836</td>\n",
       "      <td>1.980614e+06</td>\n",
       "      <td>0.792647</td>\n",
       "      <td>0.466345</td>\n",
       "      <td>0.499472</td>\n",
       "      <td>1.393885e+05</td>\n",
       "      <td>0.385864</td>\n",
       "      <td>0.500025</td>\n",
       "      <td>0.443722</td>\n",
       "      <td>0.492076</td>\n",
       "      <td>0.050926</td>\n",
       "      <td>0.420532</td>\n",
       "    </tr>\n",
       "    <tr>\n",
       "      <th>min</th>\n",
       "      <td>94561.00000</td>\n",
       "      <td>642.000000</td>\n",
       "      <td>18.000000</td>\n",
       "      <td>0.000000</td>\n",
       "      <td>0.000000e+00</td>\n",
       "      <td>0.000000</td>\n",
       "      <td>0.000000</td>\n",
       "      <td>0.000000</td>\n",
       "      <td>2.546300e+03</td>\n",
       "      <td>0.000000</td>\n",
       "      <td>0.000000</td>\n",
       "      <td>0.000000</td>\n",
       "      <td>0.000000</td>\n",
       "      <td>0.000000</td>\n",
       "      <td>0.000000</td>\n",
       "    </tr>\n",
       "    <tr>\n",
       "      <th>25%</th>\n",
       "      <td>142810.25000</td>\n",
       "      <td>802.000000</td>\n",
       "      <td>33.000000</td>\n",
       "      <td>0.000000</td>\n",
       "      <td>2.955542e+05</td>\n",
       "      <td>1.000000</td>\n",
       "      <td>0.000000</td>\n",
       "      <td>0.000000</td>\n",
       "      <td>7.525190e+04</td>\n",
       "      <td>0.000000</td>\n",
       "      <td>0.000000</td>\n",
       "      <td>0.000000</td>\n",
       "      <td>0.000000</td>\n",
       "      <td>0.000000</td>\n",
       "      <td>0.000000</td>\n",
       "    </tr>\n",
       "    <tr>\n",
       "      <th>50%</th>\n",
       "      <td>172728.00000</td>\n",
       "      <td>853.000000</td>\n",
       "      <td>40.000000</td>\n",
       "      <td>3.000000</td>\n",
       "      <td>5.242722e+05</td>\n",
       "      <td>2.000000</td>\n",
       "      <td>1.000000</td>\n",
       "      <td>1.000000</td>\n",
       "      <td>1.196581e+05</td>\n",
       "      <td>0.000000</td>\n",
       "      <td>1.000000</td>\n",
       "      <td>0.000000</td>\n",
       "      <td>1.000000</td>\n",
       "      <td>0.000000</td>\n",
       "      <td>0.000000</td>\n",
       "    </tr>\n",
       "    <tr>\n",
       "      <th>75%</th>\n",
       "      <td>201261.75000</td>\n",
       "      <td>900.000000</td>\n",
       "      <td>51.000000</td>\n",
       "      <td>4.000000</td>\n",
       "      <td>9.807058e+05</td>\n",
       "      <td>2.000000</td>\n",
       "      <td>1.000000</td>\n",
       "      <td>1.000000</td>\n",
       "      <td>1.745005e+05</td>\n",
       "      <td>0.000000</td>\n",
       "      <td>1.000000</td>\n",
       "      <td>1.000000</td>\n",
       "      <td>1.000000</td>\n",
       "      <td>0.000000</td>\n",
       "      <td>0.000000</td>\n",
       "    </tr>\n",
       "    <tr>\n",
       "      <th>max</th>\n",
       "      <td>229145.00000</td>\n",
       "      <td>1000.000000</td>\n",
       "      <td>86.000000</td>\n",
       "      <td>9.000000</td>\n",
       "      <td>1.191136e+08</td>\n",
       "      <td>5.000000</td>\n",
       "      <td>1.000000</td>\n",
       "      <td>1.000000</td>\n",
       "      <td>1.395064e+06</td>\n",
       "      <td>1.000000</td>\n",
       "      <td>1.000000</td>\n",
       "      <td>1.000000</td>\n",
       "      <td>1.000000</td>\n",
       "      <td>1.000000</td>\n",
       "      <td>1.000000</td>\n",
       "    </tr>\n",
       "  </tbody>\n",
       "</table>\n",
       "</div>"
      ],
      "text/plain": [
       "            user_id         score          age        equity       balance  \\\n",
       "count   10000.00000  10000.000000  9974.000000  10000.000000  7.705000e+03   \n",
       "mean   171814.71260    848.699400    42.734409      2.627600  8.277943e+05   \n",
       "std     33708.23812     65.448519    12.179971      1.980836  1.980614e+06   \n",
       "min     94561.00000    642.000000    18.000000      0.000000  0.000000e+00   \n",
       "25%    142810.25000    802.000000    33.000000      0.000000  2.955542e+05   \n",
       "50%    172728.00000    853.000000    40.000000      3.000000  5.242722e+05   \n",
       "75%    201261.75000    900.000000    51.000000      4.000000  9.807058e+05   \n",
       "max    229145.00000   1000.000000    86.000000      9.000000  1.191136e+08   \n",
       "\n",
       "           products   credit_card  last_activity    est_salary         churn  \\\n",
       "count  10000.000000  10000.000000   10000.000000  1.000000e+04  10000.000000   \n",
       "mean       1.870100      0.680400       0.523500  1.478669e+05      0.182000   \n",
       "std        0.792647      0.466345       0.499472  1.393885e+05      0.385864   \n",
       "min        0.000000      0.000000       0.000000  2.546300e+03      0.000000   \n",
       "25%        1.000000      0.000000       0.000000  7.525190e+04      0.000000   \n",
       "50%        2.000000      1.000000       1.000000  1.196581e+05      0.000000   \n",
       "75%        2.000000      1.000000       1.000000  1.745005e+05      0.000000   \n",
       "max        5.000000      1.000000       1.000000  1.395064e+06      1.000000   \n",
       "\n",
       "           gender_М  city_Рыбинск  city_Ярославль   age_missing  \\\n",
       "count  10000.000000  10000.000000    10000.000000  10000.000000   \n",
       "mean       0.500500      0.269500        0.588800      0.002600   \n",
       "std        0.500025      0.443722        0.492076      0.050926   \n",
       "min        0.000000      0.000000        0.000000      0.000000   \n",
       "25%        0.000000      0.000000        0.000000      0.000000   \n",
       "50%        1.000000      0.000000        1.000000      0.000000   \n",
       "75%        1.000000      1.000000        1.000000      0.000000   \n",
       "max        1.000000      1.000000        1.000000      1.000000   \n",
       "\n",
       "       balance_missing  \n",
       "count     10000.000000  \n",
       "mean          0.229500  \n",
       "std           0.420532  \n",
       "min           0.000000  \n",
       "25%           0.000000  \n",
       "50%           0.000000  \n",
       "75%           0.000000  \n",
       "max           1.000000  "
      ]
     },
     "execution_count": 16,
     "metadata": {},
     "output_type": "execute_result"
    }
   ],
   "source": [
    "df_encoded.describe()"
   ]
  },
  {
   "cell_type": "markdown",
   "metadata": {},
   "source": [
    "The average bank customer has the following characteristics:\n",
    "\n",
    "- Age is approximately 43 years.\n",
    "- Has a good credit score (848.70).\n",
    "- Maintains a significant account balance (average balance of 827,794.30).\n",
    "- Uses an average of two bank products (average number of products is 1.87).\n",
    "- Frequently has a credit card (68% of bank customers have a credit card).\n",
    "- Has a high estimated salary (147,866.90).\n",
    "- Has an 18% probability of churn.\n",
    "- Gender distribution is roughly equal between men and women.\n",
    "- Resides in Yaroslavl with a probability of 59%."
   ]
  },
  {
   "cell_type": "markdown",
   "metadata": {},
   "source": [
    "Let's examine the categorical features (city, gender, products, credit_card, equity, last_activity): We analyze these to understand which values of the categorical features are more or less prone to churn."
   ]
  },
  {
   "cell_type": "code",
   "execution_count": 17,
   "metadata": {
    "scrolled": false
   },
   "outputs": [
    {
     "data": {
      "image/png": "[encoded data removed]",
      "text/plain": [
       "<Figure size 720x432 with 1 Axes>"
      ]
     },
     "metadata": {
      "needs_background": "light"
     },
     "output_type": "display_data"
    },
    {
     "data": {
      "image/png": "[encoded data removed]",
      "text/plain": [
       "<Figure size 720x432 with 1 Axes>"
      ]
     },
     "metadata": {
      "needs_background": "light"
     },
     "output_type": "display_data"
    },
    {
     "data": {
      "image/png": "[encoded data removed]",
      "text/plain": [
       "<Figure size 720x432 with 1 Axes>"
      ]
     },
     "metadata": {
      "needs_background": "light"
     },
     "output_type": "display_data"
    },
    {
     "data": {
      "image/png": "[encoded data removed]",
      "text/plain": [
       "<Figure size 720x432 with 1 Axes>"
      ]
     },
     "metadata": {
      "needs_background": "light"
     },
     "output_type": "display_data"
    },
    {
     "data": {
      "image/png": "[encoded data removed]",
      "text/plain": [
       "<Figure size 720x432 with 1 Axes>"
      ]
     },
     "metadata": {
      "needs_background": "light"
     },
     "output_type": "display_data"
    },
    {
     "data": {
      "image/png": "[encoded data removed]",
      "text/plain": [
       "<Figure size 720x432 with 1 Axes>"
      ]
     },
     "metadata": {
      "needs_background": "light"
     },
     "output_type": "display_data"
    }
   ],
   "source": [
    "\n",
    "average_churn = df['churn'].mean()\n",
    "\n",
    "categorical_features = ['city', 'gender','products', 'credit_card', 'equity','last_activity']\n",
    "\n",
    "\n",
    "for column in categorical_features:\n",
    "    plt.figure(figsize=(10, 6))\n",
    "    ax = sns.barplot(x=column, y='churn', data=df, ci=None)\n",
    "    plt.axhline(y=average_churn, color='r', linestyle='--', label=f'Средний уровень оттока: {average_churn:.2f}')\n",
    "    plt.title(f'Влияние {column} на уровень оттока клиентов')\n",
    "    plt.xlabel(column)\n",
    "    plt.ylabel('Средний уровень оттока')\n",
    "    plt.legend()\n",
    "    plt.show()"
   ]
  },
  {
   "cell_type": "code",
   "execution_count": 18,
   "metadata": {},
   "outputs": [
    {
     "name": "stdout",
     "output_type": "stream",
     "text": [
      "2    5126\n",
      "1    3341\n",
      "3    1039\n",
      "4     474\n",
      "5      19\n",
      "0       1\n",
      "Name: products, dtype: int64\n"
     ]
    }
   ],
   "source": [
    "counts = df['products'].value_counts()\n",
    "print(counts)"
   ]
  },
  {
   "cell_type": "code",
   "execution_count": 19,
   "metadata": {},
   "outputs": [
    {
     "data": {
      "image/png": "[encoded data removed]",
      "text/plain": [
       "<Figure size 576x576 with 1 Axes>"
      ]
     },
     "metadata": {},
     "output_type": "display_data"
    }
   ],
   "source": [
    "\n",
    "plt.figure(figsize=(8, 8))\n",
    "plt.pie(counts, labels=counts.index, autopct='%1.1f%%', startangle=90)\n",
    "plt.title('Распределение значений products')\n",
    "plt.show()"
   ]
  },
  {
   "cell_type": "markdown",
   "metadata": {},
   "source": [
    "The number of products is 0 for only one customer. This is an anomaly and may indicate a data entry error. The remaining values are distributed correctly: 33.4% of customers have one product, 51.3% have two products, 10.4% have three products, 4.7% have four products, and 0.19% have five products."
   ]
  },
  {
   "cell_type": "code",
   "execution_count": 20,
   "metadata": {},
   "outputs": [],
   "source": [
    "df = df[df['products'] != 0]"
   ]
  },
  {
   "cell_type": "code",
   "execution_count": 21,
   "metadata": {},
   "outputs": [
    {
     "data": {
      "image/png": "[encoded data removed]",
      "text/plain": [
       "<Figure size 720x432 with 1 Axes>"
      ]
     },
     "metadata": {
      "needs_background": "light"
     },
     "output_type": "display_data"
    }
   ],
   "source": [
    "plt.figure(figsize=(10, 6))\n",
    "ax = sns.barplot(x='products', y='churn', data=df, ci=None)\n",
    "plt.axhline(y=average_churn, color='r', linestyle='--', label=f'Средний уровень оттока: {average_churn:.2f}')\n",
    "plt.title(f'Влияние products на уровень оттока клиентов')\n",
    "plt.xlabel('products')\n",
    "plt.ylabel('Средний уровень оттока')\n",
    "plt.legend()\n",
    "plt.show()"
   ]
  },
  {
   "cell_type": "markdown",
   "metadata": {},
   "source": [
    "**According to the criteria:**\n",
    "\n",
    "- **City:** The churn rate is lower in Rybinsk compared to the average churn rate, while in Yaroslavl and Rostov, it is slightly higher, around 19%.\n",
    "- **Gender:** Men have a higher churn rate compared to the average.\n",
    "- **Number of Products:** Customers with more than two products have a higher churn rate.\n",
    "- **Credit Card:** The churn rate is higher for customers without a credit card.\n",
    "- **Equity:** The churn rate is higher for customers with three or more properties.\n",
    "- **Last Activity:** Active customers have a higher churn rate."
   ]
  },
  {
   "cell_type": "markdown",
   "metadata": {},
   "source": [
    "Analyze the distribution of continuous features (score, age, balance, est_salary): We analyze these features to find intervals where churn is higher compared to loyalty."
   ]
  },
  {
   "cell_type": "code",
   "execution_count": 22,
   "metadata": {},
   "outputs": [
    {
     "data": {
      "image/png": "[encoded data removed]",
      "text/plain": [
       "<Figure size 720x432 with 1 Axes>"
      ]
     },
     "metadata": {
      "needs_background": "light"
     },
     "output_type": "display_data"
    }
   ],
   "source": [
    "plt.figure(figsize=(10, 6))\n",
    "sns.histplot(data=df, x='score', hue='churn', stat=\"density\", common_norm=False, bins=50, binwidth=5, kde=False)\n",
    "plt.title('Распределение лояльных и ушедших клиентов по score')\n",
    "plt.ylabel('Плотность распределения')\n",
    "plt.xlabel('Значение')\n",
    "plt.legend(['Лояльные', 'Ушедшие'])\n",
    "plt.show()"
   ]
  },
  {
   "cell_type": "code",
   "execution_count": 23,
   "metadata": {},
   "outputs": [
    {
     "data": {
      "image/png": "[encoded data removed]",
      "text/plain": [
       "<Figure size 720x432 with 1 Axes>"
      ]
     },
     "metadata": {
      "needs_background": "light"
     },
     "output_type": "display_data"
    }
   ],
   "source": [
    "plt.figure(figsize=(10, 6))\n",
    "sns.histplot(data=df, x='age', hue='churn', stat=\"density\", common_norm=False, bins=50, binwidth=1, kde=False)\n",
    "plt.title('Распределение лояльных и ушедших клиентов по age')\n",
    "plt.ylabel('Плотность распределения')\n",
    "plt.xlabel('Значение')\n",
    "plt.legend(['Лояльные', 'Ушедшие'])\n",
    "plt.show()"
   ]
  },
  {
   "cell_type": "code",
   "execution_count": 24,
   "metadata": {},
   "outputs": [
    {
     "data": {
      "image/png": "[encoded data removed]",
      "text/plain": [
       "<Figure size 720x432 with 1 Axes>"
      ]
     },
     "metadata": {
      "needs_background": "light"
     },
     "output_type": "display_data"
    }
   ],
   "source": [
    "plt.figure(figsize=(10, 6))\n",
    "sns.histplot(data=df, x='est_salary', hue='churn', stat=\"density\", common_norm=False, bins=50, binwidth=10000, kde=False)\n",
    "plt.title('Распределение лояльных и ушедших клиентов по est_salary')\n",
    "plt.ylabel('Плотность распределения')\n",
    "plt.xlabel('Значение')\n",
    "plt.legend(['Лояльные', 'Ушедшие'])\n",
    "plt.show()"
   ]
  },
  {
   "cell_type": "code",
   "execution_count": 25,
   "metadata": {},
   "outputs": [
    {
     "data": {
      "text/plain": [
       "count    9.999000e+03\n",
       "mean     1.478792e+05\n",
       "std      1.393901e+05\n",
       "min      2.546300e+03\n",
       "25%      7.525212e+04\n",
       "50%      1.196615e+05\n",
       "75%      1.745011e+05\n",
       "max      1.395064e+06\n",
       "Name: est_salary, dtype: float64"
      ]
     },
     "execution_count": 25,
     "metadata": {},
     "output_type": "execute_result"
    }
   ],
   "source": [
    "df['est_salary'].describe()"
   ]
  },
  {
   "cell_type": "markdown",
   "metadata": {},
   "source": [
    "Upper Bound = Q3 + 1.5 × (Q3 - Q1) = 174,500.5 + 1.5 × 99,248.6 = 323,373.4. Therefore, values of est_salary above approximately 323,373.40 can be considered outliers."
   ]
  },
  {
   "cell_type": "code",
   "execution_count": 26,
   "metadata": {},
   "outputs": [
    {
     "data": {
      "image/png": "[encoded data removed]",
      "text/plain": [
       "<Figure size 720x432 with 1 Axes>"
      ]
     },
     "metadata": {
      "needs_background": "light"
     },
     "output_type": "display_data"
    }
   ],
   "source": [
    "filtered_df_salary = df[df['est_salary'] <= 323373.40]\n",
    "\n",
    "plt.figure(figsize=(10, 6))\n",
    "sns.histplot(data=filtered_df_salary, x='est_salary', hue='churn', stat=\"density\", common_norm=False, bins=50, binwidth=10000, kde=False)\n",
    "plt.title('Распределение лояльных и ушедших клиентов по est_salary')\n",
    "plt.ylabel('Плотность распределения')\n",
    "plt.xlabel('Значение')\n",
    "plt.legend(['Лояльные', 'Ушедшие'])\n",
    "plt.show()"
   ]
  },
  {
   "cell_type": "code",
   "execution_count": 27,
   "metadata": {},
   "outputs": [
    {
     "data": {
      "text/plain": [
       "count    7.705000e+03\n",
       "mean     8.277943e+05\n",
       "std      1.980614e+06\n",
       "min      0.000000e+00\n",
       "25%      2.955542e+05\n",
       "50%      5.242722e+05\n",
       "75%      9.807058e+05\n",
       "max      1.191136e+08\n",
       "Name: balance, dtype: float64"
      ]
     },
     "execution_count": 27,
     "metadata": {},
     "output_type": "execute_result"
    }
   ],
   "source": [
    "df['balance'].describe()"
   ]
  },
  {
   "cell_type": "markdown",
   "metadata": {},
   "source": [
    "We will trim the outlier values for balance. \n",
    "Upper Bound = 980,705.80 + 1.5 × (980,705.80 − 295,554.20) = 980,705.80 + 1,027,727.40 = 2,008,433.20"
   ]
  },
  {
   "cell_type": "code",
   "execution_count": 28,
   "metadata": {},
   "outputs": [
    {
     "data": {
      "image/png": "[encoded data removed]",
      "text/plain": [
       "<Figure size 720x432 with 1 Axes>"
      ]
     },
     "metadata": {
      "needs_background": "light"
     },
     "output_type": "display_data"
    }
   ],
   "source": [
    "filtered_df_balance = df[df['balance'] <= 2008433.20]\n",
    "\n",
    "plt.figure(figsize=(10, 6))\n",
    "sns.histplot(data=filtered_df_balance, x='balance', hue='churn', stat=\"density\", common_norm=False, bins=25, binwidth=50000, kde=False)\n",
    "plt.title('Распределение лояльных и ушедших клиентов по balance')\n",
    "plt.ylabel('Плотность распределения')\n",
    "plt.xlabel('Значение')\n",
    "plt.legend(['Лояльные', 'Ушедшие'])\n",
    "plt.show()"
   ]
  },
  {
   "cell_type": "markdown",
   "metadata": {},
   "source": [
    "According to the criteria:\n",
    "\n",
    "Score: The churn rate is higher for customers with a score below 850.\n",
    "Age: The churn rate is higher for customers aged between 40 and 50 years and those older than 62 years.\n",
    "Salary: The churn rate is higher for customers with a salary up to 100,000.\n",
    "Balance: The churn rate is higher for customers with a balance up to 750,000."
   ]
  },
  {
   "cell_type": "markdown",
   "metadata": {},
   "source": [
    "Remove the columns age_missing, balance_missing, and user_id as they are not involved in the correlation analysis."
   ]
  },
  {
   "cell_type": "code",
   "execution_count": 29,
   "metadata": {},
   "outputs": [],
   "source": [
    "df_encoded_2 = df_encoded.drop(columns=['age_missing', 'balance_missing','user_id'])\n"
   ]
  },
  {
   "cell_type": "code",
   "execution_count": 30,
   "metadata": {},
   "outputs": [
    {
     "data": {
      "image/png": "[encoded data removed]",
      "text/plain": [
       "<Figure size 864x576 with 2 Axes>"
      ]
     },
     "metadata": {
      "needs_background": "light"
     },
     "output_type": "display_data"
    }
   ],
   "source": [
    "corr_matrix = df_encoded_2.corr()\n",
    "\n",
    "plt.figure(figsize=(12, 8))\n",
    "sns.heatmap(corr_matrix, annot=True, cmap='coolwarm', center=0)\n",
    "plt.title('Correlation Matrix of Features')\n",
    "plt.show()"
   ]
  },
  {
   "cell_type": "markdown",
   "metadata": {},
   "source": [
    "Use the Chedoke scale for interpreting the strength of correlation: 0 - 0.3: weak correlation, 0.3 - 0.5: moderate correlation, 0.5 - 0.7: noticeable correlation, 0.7 - 0.9: strong correlation, 0.9 - 1: very strong correlation. According to the correlation matrix results, we observe a correlation between churn and both equity and products."
   ]
  },
  {
   "cell_type": "markdown",
   "metadata": {},
   "source": [
    "We use the phik library—this library works with all features at once, determining the appropriate type of correlation based on the category of each feature. The advantage of this library is that it also captures nonlinear dependencies."
   ]
  },
  {
   "cell_type": "code",
   "execution_count": 31,
   "metadata": {},
   "outputs": [
    {
     "data": {
      "image/png": "[encoded data removed]",
      "text/plain": [
       "<Figure size 864x576 with 2 Axes>"
      ]
     },
     "metadata": {
      "needs_background": "light"
     },
     "output_type": "display_data"
    }
   ],
   "source": [
    "\n",
    "interval_cols = ['score', 'age', 'balance', 'est_salary']\n",
    "\n",
    "\n",
    "phik_matrix = df_encoded_2.phik_matrix(interval_cols=interval_cols)\n",
    "\n",
    "\n",
    "plt.figure(figsize=(12, 8))\n",
    "sns.heatmap(phik_matrix, annot=True, cmap='coolwarm', center=0)\n",
    "plt.title('Phik Correlation Matrix of Features')\n",
    "plt.show()"
   ]
  },
  {
   "cell_type": "markdown",
   "metadata": {},
   "source": [
    "According to the analysis using the phik library, churn is correlated with products and equity, as well as with score, age, credit_card, and gender_M. These findings confirm the results observed from the distribution of variables between churned and non-churned customers. We can now proceed to identify churn segments."
   ]
  },
  {
   "cell_type": "markdown",
   "metadata": {},
   "source": [
    "## Statistical Hypothesis Testing"
   ]
  },
  {
   "cell_type": "markdown",
   "metadata": {},
   "source": [
    "### Testing the Hypothesis of Income Differences Between Churned and Retained Bank Customers"
   ]
  },
  {
   "cell_type": "code",
   "execution_count": 32,
   "metadata": {},
   "outputs": [
    {
     "data": {
      "image/png": "[encoded data removed]",
      "text/plain": [
       "<Figure size 1008x432 with 2 Axes>"
      ]
     },
     "metadata": {
      "needs_background": "light"
     },
     "output_type": "display_data"
    }
   ],
   "source": [
    "loyal_customers_salary = df[df['churn'] == 0]['est_salary']\n",
    "churned_customers_salary = df[df['churn'] == 1]['est_salary']\n",
    "\n",
    "plt.figure(figsize=(14, 6))\n",
    "\n",
    "plt.subplot(1, 2, 1)\n",
    "sns.histplot(loyal_customers_salary, kde=True)\n",
    "plt.title('Гистограмма доходов лояльных клиентов')\n",
    "\n",
    "plt.subplot(1, 2, 2)\n",
    "sns.histplot(churned_customers_salary, kde=True)\n",
    "plt.title('Гистограмма доходов ушедших клиентов')\n",
    "\n",
    "plt.show()\n"
   ]
  },
  {
   "cell_type": "markdown",
   "metadata": {},
   "source": [
    "The presence of a significant right tail indicates a deviation from a normal distribution, so we cannot use the standard Student's t-test. We will use the non-parametric Mann-Whitney test to test the hypothesis.\n",
    "\n",
    "H0: The distribution of income (est_salary) is the same for churned and retained customers.\n",
    "H1: The distributions of income in these two groups are different."
   ]
  },
  {
   "cell_type": "code",
   "execution_count": 33,
   "metadata": {},
   "outputs": [
    {
     "name": "stdout",
     "output_type": "stream",
     "text": [
      "Статистика: 7027175.0\n",
      "p-значение: 0.00021160652203623057\n",
      "Отвергаем нулевую гипотезу: доходы различаются между ушедшими и лояльными клиентами.\n"
     ]
    }
   ],
   "source": [
    "\n",
    "stat, p_value = mannwhitneyu(loyal_customers_salary, churned_customers_salary, alternative='two-sided')\n",
    "\n",
    "alpha = 0.05\n",
    "\n",
    "print(f\"Статистика: {stat}\")\n",
    "print(f\"p-значение: {p_value}\")\n",
    "\n",
    "if p_value < alpha:\n",
    "    print(\"Отвергаем нулевую гипотезу: доходы различаются между ушедшими и лояльными клиентами.\")\n",
    "else:\n",
    "    print(\"Не можем отвергнуть нулевую гипотезу: нет значительных различий в доходах между ушедшими и лояльными клиентами.\")"
   ]
  },
  {
   "cell_type": "markdown",
   "metadata": {},
   "source": [
    "Statistic: 7,027,175.0\n",
    "p-value: 0.00021160652203623057\n",
    "Reject the null hypothesis: Incomes differ between churned and loyal customers."
   ]
  },
  {
   "cell_type": "markdown",
   "metadata": {},
   "source": [
    "### Testing the Hypothesis of Differences in Credit Scores Between Churned and Retained Bank Customers"
   ]
  },
  {
   "cell_type": "code",
   "execution_count": 34,
   "metadata": {},
   "outputs": [
    {
     "data": {
      "image/png": "[encoded data removed]",
      "text/plain": [
       "<Figure size 1008x432 with 2 Axes>"
      ]
     },
     "metadata": {
      "needs_background": "light"
     },
     "output_type": "display_data"
    }
   ],
   "source": [
    "loyal_customers_score= df[df['churn'] == 0]['score']\n",
    "churned_customers_score = df[df['churn'] == 1]['score']\n",
    "\n",
    "\n",
    "plt.figure(figsize=(14, 6))\n",
    "\n",
    "plt.subplot(1, 2, 1)\n",
    "sns.histplot(loyal_customers_score, kde=True)\n",
    "plt.title('Гистограмма скоринга лояльных клиентов')\n",
    "\n",
    "plt.subplot(1, 2, 2)\n",
    "sns.histplot(churned_customers_score, kde=True)\n",
    "plt.title('Гистограмма скоринга ушедших клиентов')\n",
    "\n",
    "plt.show()"
   ]
  },
  {
   "cell_type": "markdown",
   "metadata": {},
   "source": [
    "The distribution is again not normal. Therefore, we will apply the Mann-Whitney U test to test the hypothesis. The significance level is 5%.\n",
    "\n",
    "H0: The distribution of credit scores (score) is the same for churned and retained customers.\n",
    "H1: The distributions of credit scores in these two groups are different."
   ]
  },
  {
   "cell_type": "code",
   "execution_count": 35,
   "metadata": {},
   "outputs": [
    {
     "name": "stdout",
     "output_type": "stream",
     "text": [
      "Статистика: 6369790.0\n",
      "p-значение: 7.364570509844462e-22\n",
      "Отвергаем нулевую гипотезу: скоринг различается между ушедшими и лояльными клиентами.\n"
     ]
    }
   ],
   "source": [
    "\n",
    "stat, p_value = mannwhitneyu(loyal_customers_score, churned_customers_score, alternative='two-sided')\n",
    "\n",
    "alpha = 0.05\n",
    "\n",
    "\n",
    "print(f\"Статистика: {stat}\")\n",
    "print(f\"p-значение: {p_value}\")\n",
    "\n",
    "\n",
    "if p_value < alpha:\n",
    "    print(\"Отвергаем нулевую гипотезу: скоринг различается между ушедшими и лояльными клиентами.\")\n",
    "else:\n",
    "    print(\"Не можем отвергнуть нулевую гипотезу: нет значительных различий в скоринге между ушедшими и лояльными клиентами.\")"
   ]
  },
  {
   "cell_type": "markdown",
   "metadata": {},
   "source": [
    "Statistic: 6,369,790.0\n",
    "p-value: 7.364570509844462e-22\n",
    "Reject the null hypothesis: Credit scores differ between churned and loyal customers.\n",
    "Conclusion: The hypothesis testing results indicate that the distributions of income and credit scores differ between churned and retained customers."
   ]
  },
  {
   "cell_type": "markdown",
   "metadata": {},
   "source": [
    "## Summary of Findings: Conclusions from EDA, Correlation Analysis, and Hypothesis Testing, and Identification of Features Affecting Customer Churn"
   ]
  },
  {
   "cell_type": "markdown",
   "metadata": {},
   "source": [
    "**Based on the results of EDA, correlation analysis, and hypothesis testing, we identified the features affecting customer churn:**\n",
    "\n",
    "- Male gender\n",
    "- Age between 40 and 50 years and above 62 years\n",
    "- Ownership of 3 or more properties\n",
    "- Credit score below 850\n",
    "- Salary up to 100,000\n",
    "- More than 2 bank products\n",
    "- Balance up to 750,000\n",
    "\n",
    "The city variable has a minor impact on churn rates. The `credit_card` feature is related to the number of bank products and will not be considered separately. We can categorize the features affecting churn into three groups: demographic (gender, age), financial (salary, account balance, number of properties, credit score), and interaction with the bank (number of bank products, `last_activity`). \n",
    "\n",
    "We need to identify 3 churn segments that are manageable for the marketing department. These segments should be reasonably sized (at least 500 people). The most influential features for churn are the number of bank products and the amount of equity."
   ]
  },
  {
   "cell_type": "markdown",
   "metadata": {},
   "source": [
    "## Identify three segments (each including at least 500 customers) where the churn rate is higher than the average churn rate for the bank."
   ]
  },
  {
   "cell_type": "markdown",
   "metadata": {},
   "source": [
    "Create a table showing the churn rate for individual features and combinations of two features, as well as the number of customers in each segment. Filter by a minimum segment size of 500 and an average churn rate of 18%."
   ]
  },
  {
   "cell_type": "code",
   "execution_count": 36,
   "metadata": {},
   "outputs": [
    {
     "data": {
      "text/html": [
       "<div>\n",
       "<style scoped>\n",
       "    .dataframe tbody tr th:only-of-type {\n",
       "        vertical-align: middle;\n",
       "    }\n",
       "\n",
       "    .dataframe tbody tr th {\n",
       "        vertical-align: top;\n",
       "    }\n",
       "\n",
       "    .dataframe thead th {\n",
       "        text-align: right;\n",
       "    }\n",
       "</style>\n",
       "<table border=\"1\" class=\"dataframe\">\n",
       "  <thead>\n",
       "    <tr style=\"text-align: right;\">\n",
       "      <th></th>\n",
       "      <th>Признак</th>\n",
       "      <th>Количество клиентов</th>\n",
       "      <th>Уровень оттока</th>\n",
       "    </tr>\n",
       "  </thead>\n",
       "  <tbody>\n",
       "    <tr>\n",
       "      <th>15</th>\n",
       "      <td>Мужской пол и Количество продуктов &gt;= 3</td>\n",
       "      <td>752</td>\n",
       "      <td>50.00%</td>\n",
       "    </tr>\n",
       "    <tr>\n",
       "      <th>27</th>\n",
       "      <td>Количество продуктов &gt;= 3 и Активность</td>\n",
       "      <td>824</td>\n",
       "      <td>47.45%</td>\n",
       "    </tr>\n",
       "    <tr>\n",
       "      <th>25</th>\n",
       "      <td>Количество продуктов &gt;= 3 и Количество собственности &gt;= 3</td>\n",
       "      <td>1225</td>\n",
       "      <td>42.61%</td>\n",
       "    </tr>\n",
       "    <tr>\n",
       "      <th>2</th>\n",
       "      <td>Количество продуктов &gt;= 3</td>\n",
       "      <td>1532</td>\n",
       "      <td>39.49%</td>\n",
       "    </tr>\n",
       "    <tr>\n",
       "      <th>22</th>\n",
       "      <td>Количество продуктов &gt;= 2 и Количество продуктов &gt;= 3</td>\n",
       "      <td>1532</td>\n",
       "      <td>39.49%</td>\n",
       "    </tr>\n",
       "    <tr>\n",
       "      <th>28</th>\n",
       "      <td>Количество собственности &gt;= 3 и Активность</td>\n",
       "      <td>2928</td>\n",
       "      <td>36.51%</td>\n",
       "    </tr>\n",
       "    <tr>\n",
       "      <th>16</th>\n",
       "      <td>Мужской пол и Количество собственности &gt;= 3</td>\n",
       "      <td>2728</td>\n",
       "      <td>35.45%</td>\n",
       "    </tr>\n",
       "    <tr>\n",
       "      <th>24</th>\n",
       "      <td>Количество продуктов &gt;= 2 и Активность</td>\n",
       "      <td>3470</td>\n",
       "      <td>32.36%</td>\n",
       "    </tr>\n",
       "    <tr>\n",
       "      <th>14</th>\n",
       "      <td>Мужской пол и Количество продуктов &gt;= 2</td>\n",
       "      <td>3198</td>\n",
       "      <td>31.64%</td>\n",
       "    </tr>\n",
       "    <tr>\n",
       "      <th>18</th>\n",
       "      <td>Мужской пол и Активность</td>\n",
       "      <td>2586</td>\n",
       "      <td>29.81%</td>\n",
       "    </tr>\n",
       "    <tr>\n",
       "      <th>6</th>\n",
       "      <td>Зарплата &lt;= 100000 и Количество продуктов &gt;= 3</td>\n",
       "      <td>673</td>\n",
       "      <td>28.83%</td>\n",
       "    </tr>\n",
       "    <tr>\n",
       "      <th>23</th>\n",
       "      <td>Количество продуктов &gt;= 2 и Количество собственности &gt;= 3</td>\n",
       "      <td>4662</td>\n",
       "      <td>28.25%</td>\n",
       "    </tr>\n",
       "    <tr>\n",
       "      <th>10</th>\n",
       "      <td>Баланс &lt;= 750000 и Количество продуктов &gt;= 3</td>\n",
       "      <td>769</td>\n",
       "      <td>28.22%</td>\n",
       "    </tr>\n",
       "    <tr>\n",
       "      <th>26</th>\n",
       "      <td>Количество продуктов &gt;= 3 и Cкоринг &lt; 850</td>\n",
       "      <td>786</td>\n",
       "      <td>27.99%</td>\n",
       "    </tr>\n",
       "    <tr>\n",
       "      <th>3</th>\n",
       "      <td>Количество собственности &gt;= 3</td>\n",
       "      <td>5582</td>\n",
       "      <td>26.35%</td>\n",
       "    </tr>\n",
       "    <tr>\n",
       "      <th>4</th>\n",
       "      <td>Активность</td>\n",
       "      <td>5235</td>\n",
       "      <td>24.41%</td>\n",
       "    </tr>\n",
       "    <tr>\n",
       "      <th>1</th>\n",
       "      <td>Количество продуктов &gt;= 2</td>\n",
       "      <td>6658</td>\n",
       "      <td>23.79%</td>\n",
       "    </tr>\n",
       "    <tr>\n",
       "      <th>0</th>\n",
       "      <td>Мужской пол</td>\n",
       "      <td>5005</td>\n",
       "      <td>23.64%</td>\n",
       "    </tr>\n",
       "    <tr>\n",
       "      <th>9</th>\n",
       "      <td>Баланс &lt;= 750000 и Мужской пол</td>\n",
       "      <td>2351</td>\n",
       "      <td>23.56%</td>\n",
       "    </tr>\n",
       "    <tr>\n",
       "      <th>5</th>\n",
       "      <td>Зарплата &lt;= 100000 и Мужской пол</td>\n",
       "      <td>1736</td>\n",
       "      <td>23.27%</td>\n",
       "    </tr>\n",
       "    <tr>\n",
       "      <th>12</th>\n",
       "      <td>Баланс &lt;= 750000 и Активность</td>\n",
       "      <td>2555</td>\n",
       "      <td>23.01%</td>\n",
       "    </tr>\n",
       "    <tr>\n",
       "      <th>20</th>\n",
       "      <td>Возраст 40-50 лет и Количество собственности &gt;= 3</td>\n",
       "      <td>1417</td>\n",
       "      <td>20.75%</td>\n",
       "    </tr>\n",
       "    <tr>\n",
       "      <th>8</th>\n",
       "      <td>Зарплата &lt;= 100000 и Активность</td>\n",
       "      <td>2094</td>\n",
       "      <td>19.82%</td>\n",
       "    </tr>\n",
       "    <tr>\n",
       "      <th>17</th>\n",
       "      <td>Мужской пол и Cкоринг &lt; 850</td>\n",
       "      <td>2375</td>\n",
       "      <td>19.45%</td>\n",
       "    </tr>\n",
       "    <tr>\n",
       "      <th>19</th>\n",
       "      <td>Возраст 40-50 лет и Количество продуктов &gt;= 2</td>\n",
       "      <td>1669</td>\n",
       "      <td>19.35%</td>\n",
       "    </tr>\n",
       "    <tr>\n",
       "      <th>21</th>\n",
       "      <td>Возраст 40-50 лет и Активность</td>\n",
       "      <td>1259</td>\n",
       "      <td>19.14%</td>\n",
       "    </tr>\n",
       "    <tr>\n",
       "      <th>7</th>\n",
       "      <td>Зарплата &lt;= 100000 и Количество собственности &gt;= 3</td>\n",
       "      <td>2494</td>\n",
       "      <td>19.13%</td>\n",
       "    </tr>\n",
       "    <tr>\n",
       "      <th>11</th>\n",
       "      <td>Баланс &lt;= 750000 и Количество собственности &gt;= 3</td>\n",
       "      <td>3101</td>\n",
       "      <td>18.99%</td>\n",
       "    </tr>\n",
       "    <tr>\n",
       "      <th>13</th>\n",
       "      <td>Мужской пол и Возраст 40-50 лет</td>\n",
       "      <td>1364</td>\n",
       "      <td>18.70%</td>\n",
       "    </tr>\n",
       "  </tbody>\n",
       "</table>\n",
       "</div>"
      ],
      "text/plain": [
       "                                                      Признак  \\\n",
       "15                    Мужской пол и Количество продуктов >= 3   \n",
       "27                     Количество продуктов >= 3 и Активность   \n",
       "25  Количество продуктов >= 3 и Количество собственности >= 3   \n",
       "2                                   Количество продуктов >= 3   \n",
       "22      Количество продуктов >= 2 и Количество продуктов >= 3   \n",
       "28                 Количество собственности >= 3 и Активность   \n",
       "16                Мужской пол и Количество собственности >= 3   \n",
       "24                     Количество продуктов >= 2 и Активность   \n",
       "14                    Мужской пол и Количество продуктов >= 2   \n",
       "18                                   Мужской пол и Активность   \n",
       "6              Зарплата <= 100000 и Количество продуктов >= 3   \n",
       "23  Количество продуктов >= 2 и Количество собственности >= 3   \n",
       "10               Баланс <= 750000 и Количество продуктов >= 3   \n",
       "26                  Количество продуктов >= 3 и Cкоринг < 850   \n",
       "3                               Количество собственности >= 3   \n",
       "4                                                  Активность   \n",
       "1                                   Количество продуктов >= 2   \n",
       "0                                                 Мужской пол   \n",
       "9                              Баланс <= 750000 и Мужской пол   \n",
       "5                            Зарплата <= 100000 и Мужской пол   \n",
       "12                              Баланс <= 750000 и Активность   \n",
       "20          Возраст 40-50 лет и Количество собственности >= 3   \n",
       "8                             Зарплата <= 100000 и Активность   \n",
       "17                                Мужской пол и Cкоринг < 850   \n",
       "19              Возраст 40-50 лет и Количество продуктов >= 2   \n",
       "21                             Возраст 40-50 лет и Активность   \n",
       "7          Зарплата <= 100000 и Количество собственности >= 3   \n",
       "11           Баланс <= 750000 и Количество собственности >= 3   \n",
       "13                            Мужской пол и Возраст 40-50 лет   \n",
       "\n",
       "   Количество клиентов Уровень оттока  \n",
       "15                 752         50.00%  \n",
       "27                 824         47.45%  \n",
       "25                1225         42.61%  \n",
       "2                 1532         39.49%  \n",
       "22                1532         39.49%  \n",
       "28                2928         36.51%  \n",
       "16                2728         35.45%  \n",
       "24                3470         32.36%  \n",
       "14                3198         31.64%  \n",
       "18                2586         29.81%  \n",
       "6                  673         28.83%  \n",
       "23                4662         28.25%  \n",
       "10                 769         28.22%  \n",
       "26                 786         27.99%  \n",
       "3                 5582         26.35%  \n",
       "4                 5235         24.41%  \n",
       "1                 6658         23.79%  \n",
       "0                 5005         23.64%  \n",
       "9                 2351         23.56%  \n",
       "5                 1736         23.27%  \n",
       "12                2555         23.01%  \n",
       "20                1417         20.75%  \n",
       "8                 2094         19.82%  \n",
       "17                2375         19.45%  \n",
       "19                1669         19.35%  \n",
       "21                1259         19.14%  \n",
       "7                 2494         19.13%  \n",
       "11                3101         18.99%  \n",
       "13                1364         18.70%  "
      ]
     },
     "metadata": {},
     "output_type": "display_data"
    }
   ],
   "source": [
    "\n",
    "results = pd.DataFrame(columns=['Признак', 'Количество клиентов', 'Уровень оттока'])\n",
    "\n",
    "\n",
    "filters = {\n",
    "    'Зарплата <= 100000': df_encoded['est_salary'] <= 100000,\n",
    "    'Баланс <= 750000': df_encoded['balance'] <= 750000,\n",
    "    'Мужской пол': df_encoded['gender_М'] == 1,\n",
    "    'Возраст 40-50 лет': (df_encoded['age'] >= 40) & (df_encoded['age'] <= 50),\n",
    "    'Возраст >= 62 лет': df_encoded['age'] >= 62,\n",
    "    'Количество продуктов >= 2': df_encoded['products'] >= 2,\n",
    "    'Количество продуктов >= 3': df_encoded['products'] >= 3,\n",
    "    'Количество собственности >= 3': df_encoded['equity'] >= 3,\n",
    "    'Cкоринг < 850' :df_encoded['score'] <850,\n",
    "    'Активность':df_encoded['last_activity'] == 1\n",
    "}\n",
    "\n",
    "\n",
    "for label, filter_condition in filters.items():\n",
    "    segment_df = df_encoded[filter_condition]\n",
    "    churn_rate = segment_df['churn'].mean()\n",
    "    segment_size = segment_df.shape[0]\n",
    "    \n",
    "    \n",
    "    if segment_size > 500 and churn_rate > 0.18:\n",
    "        results = results.append({\n",
    "            'Признак': label,\n",
    "            'Количество клиентов': segment_size,\n",
    "            'Уровень оттока': f'{churn_rate:.2%}'\n",
    "        }, ignore_index=True)\n",
    "\n",
    "\n",
    "for combo in itertools.combinations(filters.items(), 2):\n",
    "    label1, filter1 = combo[0]\n",
    "    label2, filter2 = combo[1]\n",
    "    \n",
    "    \n",
    "    combined_filter = filter1 & filter2\n",
    "    segment_df = df_encoded[combined_filter]\n",
    "    churn_rate = segment_df['churn'].mean()\n",
    "    segment_size = segment_df.shape[0]\n",
    "    \n",
    "    \n",
    "    if segment_size > 500 and churn_rate > 0.18:\n",
    "        results = results.append({\n",
    "            'Признак': f'{label1} и {label2}',\n",
    "            'Количество клиентов': segment_size,\n",
    "            'Уровень оттока': f'{churn_rate:.2%}'\n",
    "        }, ignore_index=True)\n",
    "\n",
    "\n",
    "results = results.sort_values(by='Уровень оттока', ascending=False)\n",
    "pd.set_option('display.max_colwidth', None)\n",
    "\n",
    "display(results)"
   ]
  },
  {
   "cell_type": "markdown",
   "metadata": {},
   "source": [
    "Based on this data, we can identify three distinct segments that are sufficiently large and have a high churn rate, which the marketing department can target:\n",
    "\n",
    "- Male gender and Number of products ≥ 3: Segment size 752, churn rate 50.00%\n",
    "- Number of properties ≥ 3 and Activity: Segment size 2,928, churn rate 36.51%\n",
    "- Salary ≤ 100,000 and Number of products ≥ 3: Segment size 673, churn rate 28.83%"
   ]
  },
  {
   "cell_type": "markdown",
   "metadata": {},
   "source": [
    "## Formulating targeted recommendations for working with the identified segments."
   ]
  },
  {
   "cell_type": "markdown",
   "metadata": {},
   "source": [
    "**1. Segment: Men with Number of Products ≥ 3**  \n",
    "**Churn Rate: 50.00% (752 customers)**\n",
    "\n",
    "This segment is characterized by active use of multiple financial products. Recommendations:\n",
    "- **Increase Loyalty through Personalized Offers:** Develop loyalty programs targeted at customers with multiple products. This could include discounts or bonuses for actively using several products simultaneously.\n",
    "- **Optimize Product Portfolio:** Conduct surveys or interviews to understand which products or services customers find unnecessary or inconvenient, and offer simplified options.\n",
    "- **Offer Financial Consultations:** Many customers may not be using the bank’s products effectively. Offer financial management consultations to increase their satisfaction with product usage.\n",
    "- **Use Male-Oriented Design in Marketing Materials:** Tailor marketing materials to appeal to a male audience.\n",
    "\n",
    "**2. Segment: Number of Properties ≥ 3 and Active Bank Customers**  \n",
    "**Churn Rate: 36.51% (2928 customers)**\n",
    "This segment is characterized by owning multiple properties, indicating strong financial standing and an inclination towards investment. Recommendations:\n",
    "- **Enhance Property Ownership Benefits:** Create programs offering additional advantages or discounts for customers with significant property holdings. This could include exclusive mortgage offers or improved conditions for home or car insurance.\n",
    "- **Financial Planning Program:** Customers with substantial property may value assistance with long-term asset planning and risk management. Launch personalized property and capital management consultations.\n",
    "- **Implement Cross-Selling Programs:** Consider offering additional products that may interest owners of multiple properties, such as premium credit cards or investment products.\n",
    "\n",
    "**3. Segment: Customers with Salary ≤ 100,000 and Number of Products ≥ 3**  \n",
    "**Churn Rate: 28.83% (673 customers)**\n",
    "\n",
    "This segment actively uses the bank's products and has a relatively low income. Recommendations:\n",
    "- **Develop Financial Literacy:** Customers with a lower income and multiple products might struggle with payments or management. Organize financial literacy and budgeting programs.\n",
    "- **Review Fees and Conditions:** Analyze the current terms of the products used by customers in this segment and offer more favorable or affordable options, such as reduced fees or offers with lower payments.\n",
    "- **Personalized Financial Offers:** Develop offers that better fit the financial capabilities of these customers, such as more accessible credit lines, flexible repayment plans, cashback on cards, bonuses for long-term engagement, or referral incentive programs."
   ]
  }
 ],
 "metadata": {
  "ExecuteTimeLog": [
   {
    "duration": 1519,
    "start_time": "2024-08-13T07:38:21.044Z"
   },
   {
    "duration": 374,
    "start_time": "2024-08-13T07:41:30.436Z"
   },
   {
    "duration": 24,
    "start_time": "2024-08-13T07:41:44.498Z"
   },
   {
    "duration": 13,
    "start_time": "2024-08-13T07:42:42.411Z"
   },
   {
    "duration": 4,
    "start_time": "2024-08-13T07:47:54.894Z"
   },
   {
    "duration": 5,
    "start_time": "2024-08-13T07:48:46.380Z"
   },
   {
    "duration": 80,
    "start_time": "2024-08-13T07:49:36.138Z"
   },
   {
    "duration": 11,
    "start_time": "2024-08-13T07:51:06.031Z"
   },
   {
    "duration": 81,
    "start_time": "2024-08-13T07:51:14.227Z"
   },
   {
    "duration": 16,
    "start_time": "2024-08-13T08:01:47.775Z"
   },
   {
    "duration": 24,
    "start_time": "2024-08-13T08:03:05.783Z"
   },
   {
    "duration": 20,
    "start_time": "2024-08-13T08:04:01.288Z"
   },
   {
    "duration": 7,
    "start_time": "2024-08-13T08:14:26.047Z"
   },
   {
    "duration": 6,
    "start_time": "2024-08-13T08:14:42.239Z"
   },
   {
    "duration": 4,
    "start_time": "2024-08-13T08:16:03.592Z"
   },
   {
    "duration": 16,
    "start_time": "2024-08-13T08:38:20.972Z"
   },
   {
    "duration": 14,
    "start_time": "2024-08-13T09:20:48.706Z"
   },
   {
    "duration": 13,
    "start_time": "2024-08-13T09:21:04.477Z"
   },
   {
    "duration": 1371,
    "start_time": "2024-08-13T09:22:09.703Z"
   },
   {
    "duration": 46,
    "start_time": "2024-08-13T09:22:11.076Z"
   },
   {
    "duration": 19,
    "start_time": "2024-08-13T09:22:11.123Z"
   },
   {
    "duration": 20,
    "start_time": "2024-08-13T09:22:11.144Z"
   },
   {
    "duration": 4,
    "start_time": "2024-08-13T09:22:11.167Z"
   },
   {
    "duration": 20,
    "start_time": "2024-08-13T09:22:11.172Z"
   },
   {
    "duration": 18,
    "start_time": "2024-08-13T09:22:11.194Z"
   },
   {
    "duration": 14,
    "start_time": "2024-08-13T09:22:11.214Z"
   },
   {
    "duration": 37,
    "start_time": "2024-08-13T09:22:11.230Z"
   },
   {
    "duration": 19,
    "start_time": "2024-08-13T09:22:11.269Z"
   },
   {
    "duration": 13,
    "start_time": "2024-08-13T09:22:11.291Z"
   },
   {
    "duration": 6,
    "start_time": "2024-08-13T09:23:51.566Z"
   },
   {
    "duration": 22,
    "start_time": "2024-08-13T09:30:19.870Z"
   },
   {
    "duration": 14,
    "start_time": "2024-08-13T09:30:42.764Z"
   },
   {
    "duration": 1791,
    "start_time": "2024-08-13T09:33:05.522Z"
   },
   {
    "duration": 1584,
    "start_time": "2024-08-13T09:40:49.302Z"
   },
   {
    "duration": 15,
    "start_time": "2024-08-13T10:18:09.988Z"
   },
   {
    "duration": 8,
    "start_time": "2024-08-13T10:39:52.030Z"
   },
   {
    "duration": 608,
    "start_time": "2024-08-13T10:40:56.902Z"
   },
   {
    "duration": 3,
    "start_time": "2024-08-13T11:06:03.361Z"
   },
   {
    "duration": 42,
    "start_time": "2024-08-13T11:11:57.265Z"
   },
   {
    "duration": 52,
    "start_time": "2024-08-13T11:14:21.652Z"
   },
   {
    "duration": 650,
    "start_time": "2024-08-13T11:31:57.477Z"
   },
   {
    "duration": 1657,
    "start_time": "2024-08-13T11:32:37.264Z"
   },
   {
    "duration": 49,
    "start_time": "2024-08-13T13:27:54.842Z"
   },
   {
    "duration": 1414,
    "start_time": "2024-08-13T13:28:03.818Z"
   },
   {
    "duration": 117,
    "start_time": "2024-08-13T13:28:05.235Z"
   },
   {
    "duration": 19,
    "start_time": "2024-08-13T13:28:05.353Z"
   },
   {
    "duration": 13,
    "start_time": "2024-08-13T13:28:05.373Z"
   },
   {
    "duration": 21,
    "start_time": "2024-08-13T13:28:05.388Z"
   },
   {
    "duration": 84,
    "start_time": "2024-08-13T13:28:05.410Z"
   },
   {
    "duration": 42,
    "start_time": "2024-08-13T13:28:05.495Z"
   },
   {
    "duration": 14,
    "start_time": "2024-08-13T13:28:05.538Z"
   },
   {
    "duration": 4,
    "start_time": "2024-08-13T13:28:05.554Z"
   },
   {
    "duration": 12,
    "start_time": "2024-08-13T13:28:05.559Z"
   },
   {
    "duration": 14,
    "start_time": "2024-08-13T13:28:05.573Z"
   },
   {
    "duration": 5,
    "start_time": "2024-08-13T13:28:05.589Z"
   },
   {
    "duration": 18,
    "start_time": "2024-08-13T13:28:05.595Z"
   },
   {
    "duration": 638,
    "start_time": "2024-08-13T13:28:05.616Z"
   },
   {
    "duration": 53,
    "start_time": "2024-08-13T13:28:06.255Z"
   },
   {
    "duration": 1596,
    "start_time": "2024-08-13T13:28:06.309Z"
   },
   {
    "duration": 15,
    "start_time": "2024-08-13T13:28:07.907Z"
   },
   {
    "duration": 47,
    "start_time": "2024-08-13T13:54:55.328Z"
   },
   {
    "duration": 8,
    "start_time": "2024-08-13T13:57:35.683Z"
   },
   {
    "duration": 1191,
    "start_time": "2024-08-13T13:57:47.314Z"
   },
   {
    "duration": 104,
    "start_time": "2024-08-13T13:57:48.507Z"
   },
   {
    "duration": 18,
    "start_time": "2024-08-13T13:57:48.613Z"
   },
   {
    "duration": 11,
    "start_time": "2024-08-13T13:57:48.632Z"
   },
   {
    "duration": 4,
    "start_time": "2024-08-13T13:57:48.645Z"
   },
   {
    "duration": 6,
    "start_time": "2024-08-13T13:57:48.650Z"
   },
   {
    "duration": 11,
    "start_time": "2024-08-13T13:57:48.657Z"
   },
   {
    "duration": 14,
    "start_time": "2024-08-13T13:57:48.669Z"
   },
   {
    "duration": 4,
    "start_time": "2024-08-13T13:57:48.684Z"
   },
   {
    "duration": 8,
    "start_time": "2024-08-13T13:57:48.689Z"
   },
   {
    "duration": 26,
    "start_time": "2024-08-13T13:57:48.699Z"
   },
   {
    "duration": 5,
    "start_time": "2024-08-13T13:57:48.727Z"
   },
   {
    "duration": 40,
    "start_time": "2024-08-13T13:57:48.733Z"
   },
   {
    "duration": 532,
    "start_time": "2024-08-13T13:57:48.775Z"
   },
   {
    "duration": 58,
    "start_time": "2024-08-13T13:57:49.309Z"
   },
   {
    "duration": 1538,
    "start_time": "2024-08-13T13:57:49.368Z"
   },
   {
    "duration": 55,
    "start_time": "2024-08-13T13:57:50.908Z"
   },
   {
    "duration": 0,
    "start_time": "2024-08-13T13:57:50.964Z"
   },
   {
    "duration": 0,
    "start_time": "2024-08-13T13:57:50.966Z"
   },
   {
    "duration": 1360,
    "start_time": "2024-08-13T13:58:04.585Z"
   },
   {
    "duration": 56,
    "start_time": "2024-08-13T13:58:48.912Z"
   },
   {
    "duration": 1444,
    "start_time": "2024-08-13T14:00:03.551Z"
   },
   {
    "duration": 294,
    "start_time": "2024-08-13T14:00:17.547Z"
   },
   {
    "duration": 526,
    "start_time": "2024-08-13T14:00:54.152Z"
   },
   {
    "duration": 375,
    "start_time": "2024-08-13T14:05:31.798Z"
   },
   {
    "duration": 49,
    "start_time": "2024-08-13T14:09:53.592Z"
   },
   {
    "duration": 1112,
    "start_time": "2024-08-13T14:10:01.704Z"
   },
   {
    "duration": 102,
    "start_time": "2024-08-13T14:10:02.818Z"
   },
   {
    "duration": 18,
    "start_time": "2024-08-13T14:10:02.922Z"
   },
   {
    "duration": 26,
    "start_time": "2024-08-13T14:10:02.942Z"
   },
   {
    "duration": 7,
    "start_time": "2024-08-13T14:10:02.971Z"
   },
   {
    "duration": 55,
    "start_time": "2024-08-13T14:10:02.980Z"
   },
   {
    "duration": 92,
    "start_time": "2024-08-13T14:10:03.037Z"
   },
   {
    "duration": 42,
    "start_time": "2024-08-13T14:10:03.131Z"
   },
   {
    "duration": 6,
    "start_time": "2024-08-13T14:10:03.174Z"
   },
   {
    "duration": 11,
    "start_time": "2024-08-13T14:10:03.181Z"
   },
   {
    "duration": 35,
    "start_time": "2024-08-13T14:10:03.193Z"
   },
   {
    "duration": 23,
    "start_time": "2024-08-13T14:10:03.230Z"
   },
   {
    "duration": 23,
    "start_time": "2024-08-13T14:10:03.254Z"
   },
   {
    "duration": 537,
    "start_time": "2024-08-13T14:10:03.279Z"
   },
   {
    "duration": 62,
    "start_time": "2024-08-13T14:10:03.818Z"
   },
   {
    "duration": 1620,
    "start_time": "2024-08-13T14:10:03.882Z"
   },
   {
    "duration": 499,
    "start_time": "2024-08-13T14:10:05.503Z"
   },
   {
    "duration": 402,
    "start_time": "2024-08-13T14:10:06.003Z"
   },
   {
    "duration": 50,
    "start_time": "2024-08-13T14:13:27.119Z"
   },
   {
    "duration": 1130,
    "start_time": "2024-08-13T14:13:33.288Z"
   },
   {
    "duration": 103,
    "start_time": "2024-08-13T14:13:34.420Z"
   },
   {
    "duration": 17,
    "start_time": "2024-08-13T14:13:34.525Z"
   },
   {
    "duration": 11,
    "start_time": "2024-08-13T14:13:34.544Z"
   },
   {
    "duration": 3,
    "start_time": "2024-08-13T14:13:34.557Z"
   },
   {
    "duration": 13,
    "start_time": "2024-08-13T14:13:34.562Z"
   },
   {
    "duration": 17,
    "start_time": "2024-08-13T14:13:34.577Z"
   },
   {
    "duration": 15,
    "start_time": "2024-08-13T14:13:34.596Z"
   },
   {
    "duration": 4,
    "start_time": "2024-08-13T14:13:34.613Z"
   },
   {
    "duration": 12,
    "start_time": "2024-08-13T14:13:34.618Z"
   },
   {
    "duration": 31,
    "start_time": "2024-08-13T14:13:34.631Z"
   },
   {
    "duration": 5,
    "start_time": "2024-08-13T14:13:34.663Z"
   },
   {
    "duration": 27,
    "start_time": "2024-08-13T14:13:34.669Z"
   },
   {
    "duration": 596,
    "start_time": "2024-08-13T14:13:34.699Z"
   },
   {
    "duration": 64,
    "start_time": "2024-08-13T14:13:35.297Z"
   },
   {
    "duration": 1552,
    "start_time": "2024-08-13T14:13:35.363Z"
   },
   {
    "duration": 487,
    "start_time": "2024-08-13T14:13:36.917Z"
   },
   {
    "duration": 400,
    "start_time": "2024-08-13T14:13:37.406Z"
   },
   {
    "duration": 1096,
    "start_time": "2024-08-13T14:16:14.597Z"
   },
   {
    "duration": 45,
    "start_time": "2024-08-13T14:16:15.695Z"
   },
   {
    "duration": 19,
    "start_time": "2024-08-13T14:16:15.741Z"
   },
   {
    "duration": 14,
    "start_time": "2024-08-13T14:16:15.762Z"
   },
   {
    "duration": 3,
    "start_time": "2024-08-13T14:16:15.778Z"
   },
   {
    "duration": 10,
    "start_time": "2024-08-13T14:16:15.783Z"
   },
   {
    "duration": 17,
    "start_time": "2024-08-13T14:16:15.795Z"
   },
   {
    "duration": 19,
    "start_time": "2024-08-13T14:16:15.814Z"
   },
   {
    "duration": 5,
    "start_time": "2024-08-13T14:16:15.852Z"
   },
   {
    "duration": 10,
    "start_time": "2024-08-13T14:16:15.860Z"
   },
   {
    "duration": 18,
    "start_time": "2024-08-13T14:16:15.871Z"
   },
   {
    "duration": 79,
    "start_time": "2024-08-13T14:16:15.890Z"
   },
   {
    "duration": 18,
    "start_time": "2024-08-13T14:16:15.971Z"
   },
   {
    "duration": 536,
    "start_time": "2024-08-13T14:16:15.990Z"
   },
   {
    "duration": 58,
    "start_time": "2024-08-13T14:16:16.528Z"
   },
   {
    "duration": 1507,
    "start_time": "2024-08-13T14:16:16.588Z"
   },
   {
    "duration": 479,
    "start_time": "2024-08-13T14:16:18.096Z"
   },
   {
    "duration": 398,
    "start_time": "2024-08-13T14:16:18.576Z"
   },
   {
    "duration": 1144,
    "start_time": "2024-08-13T14:17:04.073Z"
   },
   {
    "duration": 45,
    "start_time": "2024-08-13T14:17:05.219Z"
   },
   {
    "duration": 19,
    "start_time": "2024-08-13T14:17:05.266Z"
   },
   {
    "duration": 13,
    "start_time": "2024-08-13T14:17:05.286Z"
   },
   {
    "duration": 3,
    "start_time": "2024-08-13T14:17:05.301Z"
   },
   {
    "duration": 7,
    "start_time": "2024-08-13T14:17:05.306Z"
   },
   {
    "duration": 11,
    "start_time": "2024-08-13T14:17:05.315Z"
   },
   {
    "duration": 35,
    "start_time": "2024-08-13T14:17:05.327Z"
   },
   {
    "duration": 4,
    "start_time": "2024-08-13T14:17:05.363Z"
   },
   {
    "duration": 20,
    "start_time": "2024-08-13T14:17:05.369Z"
   },
   {
    "duration": 14,
    "start_time": "2024-08-13T14:17:05.390Z"
   },
   {
    "duration": 9,
    "start_time": "2024-08-13T14:17:05.405Z"
   },
   {
    "duration": 19,
    "start_time": "2024-08-13T14:17:05.416Z"
   },
   {
    "duration": 565,
    "start_time": "2024-08-13T14:17:05.451Z"
   },
   {
    "duration": 65,
    "start_time": "2024-08-13T14:17:06.017Z"
   },
   {
    "duration": 1617,
    "start_time": "2024-08-13T14:17:06.083Z"
   },
   {
    "duration": 556,
    "start_time": "2024-08-13T14:17:07.702Z"
   },
   {
    "duration": 388,
    "start_time": "2024-08-13T14:17:08.260Z"
   },
   {
    "duration": 632,
    "start_time": "2024-08-13T14:17:08.651Z"
   },
   {
    "duration": 9,
    "start_time": "2024-08-13T14:19:35.264Z"
   },
   {
    "duration": 366,
    "start_time": "2024-08-13T14:23:48.468Z"
   },
   {
    "duration": 8,
    "start_time": "2024-08-13T14:39:37.442Z"
   },
   {
    "duration": 290,
    "start_time": "2024-08-13T14:42:37.168Z"
   },
   {
    "duration": 5,
    "start_time": "2024-08-13T14:43:24.331Z"
   },
   {
    "duration": 1149,
    "start_time": "2024-08-13T14:44:44.649Z"
   },
   {
    "duration": 46,
    "start_time": "2024-08-13T14:44:45.800Z"
   },
   {
    "duration": 18,
    "start_time": "2024-08-13T14:44:45.847Z"
   },
   {
    "duration": 12,
    "start_time": "2024-08-13T14:44:45.866Z"
   },
   {
    "duration": 3,
    "start_time": "2024-08-13T14:44:45.880Z"
   },
   {
    "duration": 13,
    "start_time": "2024-08-13T14:44:45.884Z"
   },
   {
    "duration": 10,
    "start_time": "2024-08-13T14:44:45.898Z"
   },
   {
    "duration": 13,
    "start_time": "2024-08-13T14:44:45.910Z"
   },
   {
    "duration": 28,
    "start_time": "2024-08-13T14:44:45.925Z"
   },
   {
    "duration": 11,
    "start_time": "2024-08-13T14:44:45.954Z"
   },
   {
    "duration": 104,
    "start_time": "2024-08-13T14:44:45.966Z"
   },
   {
    "duration": 13,
    "start_time": "2024-08-13T14:44:46.072Z"
   },
   {
    "duration": 34,
    "start_time": "2024-08-13T14:44:46.086Z"
   },
   {
    "duration": 549,
    "start_time": "2024-08-13T14:44:46.123Z"
   },
   {
    "duration": 50,
    "start_time": "2024-08-13T14:44:46.673Z"
   },
   {
    "duration": 1574,
    "start_time": "2024-08-13T14:44:46.724Z"
   },
   {
    "duration": 482,
    "start_time": "2024-08-13T14:44:48.299Z"
   },
   {
    "duration": 396,
    "start_time": "2024-08-13T14:44:48.782Z"
   },
   {
    "duration": 624,
    "start_time": "2024-08-13T14:44:49.179Z"
   },
   {
    "duration": 7,
    "start_time": "2024-08-13T14:44:49.805Z"
   },
   {
    "duration": 377,
    "start_time": "2024-08-13T14:44:49.814Z"
   },
   {
    "duration": 9,
    "start_time": "2024-08-13T14:44:50.192Z"
   },
   {
    "duration": 875,
    "start_time": "2024-08-13T14:44:50.202Z"
   },
   {
    "duration": 312,
    "start_time": "2024-08-13T14:45:50.669Z"
   },
   {
    "duration": 48,
    "start_time": "2024-08-14T07:21:48.622Z"
   },
   {
    "duration": 1403,
    "start_time": "2024-08-14T07:21:59.677Z"
   },
   {
    "duration": 160,
    "start_time": "2024-08-14T07:22:01.082Z"
   },
   {
    "duration": 19,
    "start_time": "2024-08-14T07:22:01.244Z"
   },
   {
    "duration": 37,
    "start_time": "2024-08-14T07:22:01.265Z"
   },
   {
    "duration": 50,
    "start_time": "2024-08-14T07:22:01.304Z"
   },
   {
    "duration": 48,
    "start_time": "2024-08-14T07:22:01.355Z"
   },
   {
    "duration": 156,
    "start_time": "2024-08-14T07:22:01.405Z"
   },
   {
    "duration": 40,
    "start_time": "2024-08-14T07:22:01.563Z"
   },
   {
    "duration": 29,
    "start_time": "2024-08-14T07:22:01.605Z"
   },
   {
    "duration": 88,
    "start_time": "2024-08-14T07:22:01.636Z"
   },
   {
    "duration": 42,
    "start_time": "2024-08-14T07:22:01.725Z"
   },
   {
    "duration": 35,
    "start_time": "2024-08-14T07:22:01.768Z"
   },
   {
    "duration": 76,
    "start_time": "2024-08-14T07:22:01.805Z"
   },
   {
    "duration": 700,
    "start_time": "2024-08-14T07:22:01.882Z"
   },
   {
    "duration": 51,
    "start_time": "2024-08-14T07:22:02.584Z"
   },
   {
    "duration": 1681,
    "start_time": "2024-08-14T07:22:02.636Z"
   },
   {
    "duration": 548,
    "start_time": "2024-08-14T07:22:04.319Z"
   },
   {
    "duration": 409,
    "start_time": "2024-08-14T07:22:04.868Z"
   },
   {
    "duration": 675,
    "start_time": "2024-08-14T07:22:05.278Z"
   },
   {
    "duration": 15,
    "start_time": "2024-08-14T07:22:05.954Z"
   },
   {
    "duration": 403,
    "start_time": "2024-08-14T07:22:05.970Z"
   },
   {
    "duration": 9,
    "start_time": "2024-08-14T07:22:06.375Z"
   },
   {
    "duration": 351,
    "start_time": "2024-08-14T07:22:06.386Z"
   },
   {
    "duration": 13,
    "start_time": "2024-08-14T07:22:06.739Z"
   },
   {
    "duration": 1659,
    "start_time": "2024-08-14T07:22:06.753Z"
   },
   {
    "duration": 5,
    "start_time": "2024-08-14T07:25:01.014Z"
   },
   {
    "duration": 1338,
    "start_time": "2024-08-14T07:25:10.640Z"
   },
   {
    "duration": 104,
    "start_time": "2024-08-14T08:00:04.336Z"
   },
   {
    "duration": 3634,
    "start_time": "2024-08-14T08:01:18.986Z"
   },
   {
    "duration": 1324,
    "start_time": "2024-08-14T08:01:32.134Z"
   },
   {
    "duration": 41,
    "start_time": "2024-08-14T08:01:33.460Z"
   },
   {
    "duration": 68,
    "start_time": "2024-08-14T08:01:33.503Z"
   },
   {
    "duration": 15,
    "start_time": "2024-08-14T08:01:33.574Z"
   },
   {
    "duration": 4,
    "start_time": "2024-08-14T08:01:33.591Z"
   },
   {
    "duration": 15,
    "start_time": "2024-08-14T08:01:33.597Z"
   },
   {
    "duration": 23,
    "start_time": "2024-08-14T08:01:33.613Z"
   },
   {
    "duration": 19,
    "start_time": "2024-08-14T08:01:33.638Z"
   },
   {
    "duration": 8,
    "start_time": "2024-08-14T08:01:33.659Z"
   },
   {
    "duration": 16,
    "start_time": "2024-08-14T08:01:33.670Z"
   },
   {
    "duration": 24,
    "start_time": "2024-08-14T08:01:33.687Z"
   },
   {
    "duration": 6,
    "start_time": "2024-08-14T08:01:33.712Z"
   },
   {
    "duration": 19,
    "start_time": "2024-08-14T08:01:33.719Z"
   },
   {
    "duration": 565,
    "start_time": "2024-08-14T08:01:33.739Z"
   },
   {
    "duration": 60,
    "start_time": "2024-08-14T08:01:34.305Z"
   },
   {
    "duration": 1564,
    "start_time": "2024-08-14T08:01:34.367Z"
   },
   {
    "duration": 489,
    "start_time": "2024-08-14T08:01:35.933Z"
   },
   {
    "duration": 417,
    "start_time": "2024-08-14T08:01:36.424Z"
   },
   {
    "duration": 636,
    "start_time": "2024-08-14T08:01:36.843Z"
   },
   {
    "duration": 9,
    "start_time": "2024-08-14T08:01:37.480Z"
   },
   {
    "duration": 415,
    "start_time": "2024-08-14T08:01:37.490Z"
   },
   {
    "duration": 10,
    "start_time": "2024-08-14T08:01:37.908Z"
   },
   {
    "duration": 355,
    "start_time": "2024-08-14T08:01:37.920Z"
   },
   {
    "duration": 4,
    "start_time": "2024-08-14T08:01:38.277Z"
   },
   {
    "duration": 1350,
    "start_time": "2024-08-14T08:01:38.282Z"
   },
   {
    "duration": 2487,
    "start_time": "2024-08-14T08:01:39.633Z"
   },
   {
    "duration": 186,
    "start_time": "2024-08-14T08:01:42.123Z"
   },
   {
    "duration": 20639,
    "start_time": "2024-08-14T08:02:29.478Z"
   },
   {
    "duration": 13,
    "start_time": "2024-08-14T09:01:20.329Z"
   },
   {
    "duration": 8,
    "start_time": "2024-08-14T09:06:52.093Z"
   },
   {
    "duration": 605,
    "start_time": "2024-08-14T09:07:08.847Z"
   },
   {
    "duration": 7,
    "start_time": "2024-08-14T09:08:05.959Z"
   },
   {
    "duration": 14,
    "start_time": "2024-08-14T09:20:38.128Z"
   },
   {
    "duration": 13,
    "start_time": "2024-08-14T09:21:20.079Z"
   },
   {
    "duration": 3,
    "start_time": "2024-08-14T09:22:24.956Z"
   },
   {
    "duration": 700,
    "start_time": "2024-08-14T09:23:55.548Z"
   },
   {
    "duration": 14,
    "start_time": "2024-08-14T09:24:11.857Z"
   },
   {
    "duration": 582,
    "start_time": "2024-08-14T09:35:21.740Z"
   },
   {
    "duration": 800,
    "start_time": "2024-08-14T09:37:35.603Z"
   },
   {
    "duration": 14,
    "start_time": "2024-08-14T09:45:35.816Z"
   },
   {
    "duration": 627,
    "start_time": "2024-08-14T10:11:24.032Z"
   },
   {
    "duration": 1074,
    "start_time": "2024-08-14T11:21:49.874Z"
   },
   {
    "duration": 13,
    "start_time": "2024-08-14T11:22:54.618Z"
   },
   {
    "duration": 13,
    "start_time": "2024-08-14T11:24:24.927Z"
   },
   {
    "duration": 13,
    "start_time": "2024-08-14T11:32:06.248Z"
   },
   {
    "duration": 14,
    "start_time": "2024-08-14T11:32:17.473Z"
   },
   {
    "duration": 9,
    "start_time": "2024-08-14T11:32:34.541Z"
   },
   {
    "duration": 8,
    "start_time": "2024-08-14T11:32:59.370Z"
   },
   {
    "duration": 8,
    "start_time": "2024-08-14T11:33:13.466Z"
   },
   {
    "duration": 8,
    "start_time": "2024-08-14T11:34:09.606Z"
   },
   {
    "duration": 1108,
    "start_time": "2024-08-14T11:37:26.847Z"
   },
   {
    "duration": 11,
    "start_time": "2024-08-14T11:37:38.386Z"
   },
   {
    "duration": 8,
    "start_time": "2024-08-14T11:37:48.588Z"
   },
   {
    "duration": 7,
    "start_time": "2024-08-14T11:38:25.813Z"
   },
   {
    "duration": 7,
    "start_time": "2024-08-14T11:40:16.521Z"
   },
   {
    "duration": 21,
    "start_time": "2024-08-14T11:40:56.852Z"
   },
   {
    "duration": 7,
    "start_time": "2024-08-14T11:41:17.685Z"
   },
   {
    "duration": 10,
    "start_time": "2024-08-14T11:41:20.812Z"
   },
   {
    "duration": 9,
    "start_time": "2024-08-14T11:41:40.651Z"
   },
   {
    "duration": 1073,
    "start_time": "2024-08-14T11:43:39.403Z"
   },
   {
    "duration": 20,
    "start_time": "2024-08-14T11:43:56.988Z"
   },
   {
    "duration": 8,
    "start_time": "2024-08-14T11:51:27.622Z"
   },
   {
    "duration": 9,
    "start_time": "2024-08-14T11:52:19.938Z"
   },
   {
    "duration": 9,
    "start_time": "2024-08-14T11:52:41.822Z"
   },
   {
    "duration": 8,
    "start_time": "2024-08-14T11:53:18.044Z"
   },
   {
    "duration": 6,
    "start_time": "2024-08-14T11:54:19.478Z"
   },
   {
    "duration": 8,
    "start_time": "2024-08-14T11:54:26.539Z"
   },
   {
    "duration": 7,
    "start_time": "2024-08-14T11:55:24.678Z"
   },
   {
    "duration": 11,
    "start_time": "2024-08-14T11:56:34.165Z"
   },
   {
    "duration": 10,
    "start_time": "2024-08-14T11:56:38.635Z"
   },
   {
    "duration": 7,
    "start_time": "2024-08-14T11:57:15.476Z"
   },
   {
    "duration": 11,
    "start_time": "2024-08-14T11:57:36.968Z"
   },
   {
    "duration": 8,
    "start_time": "2024-08-14T11:58:03.436Z"
   },
   {
    "duration": 7,
    "start_time": "2024-08-14T11:59:22.456Z"
   },
   {
    "duration": 11,
    "start_time": "2024-08-14T12:00:00.516Z"
   },
   {
    "duration": 8,
    "start_time": "2024-08-14T12:01:00.597Z"
   },
   {
    "duration": 37,
    "start_time": "2024-08-14T12:04:04.560Z"
   },
   {
    "duration": 129,
    "start_time": "2024-08-14T12:07:46.977Z"
   },
   {
    "duration": 82,
    "start_time": "2024-08-14T12:10:40.188Z"
   },
   {
    "duration": 90,
    "start_time": "2024-08-14T12:10:52.691Z"
   },
   {
    "duration": 68,
    "start_time": "2024-08-14T12:11:15.465Z"
   },
   {
    "duration": 93,
    "start_time": "2024-08-14T12:11:22.640Z"
   },
   {
    "duration": 91,
    "start_time": "2024-08-14T12:12:43.593Z"
   },
   {
    "duration": 101,
    "start_time": "2024-08-14T12:21:47.657Z"
   },
   {
    "duration": 3,
    "start_time": "2024-08-14T12:26:40.210Z"
   },
   {
    "duration": 1237,
    "start_time": "2024-08-14T12:51:39.862Z"
   },
   {
    "duration": 41,
    "start_time": "2024-08-14T12:51:41.101Z"
   },
   {
    "duration": 18,
    "start_time": "2024-08-14T12:51:41.144Z"
   },
   {
    "duration": 12,
    "start_time": "2024-08-14T12:51:41.164Z"
   },
   {
    "duration": 3,
    "start_time": "2024-08-14T12:51:41.179Z"
   },
   {
    "duration": 5,
    "start_time": "2024-08-14T12:51:41.184Z"
   },
   {
    "duration": 27,
    "start_time": "2024-08-14T12:51:41.190Z"
   },
   {
    "duration": 15,
    "start_time": "2024-08-14T12:51:41.219Z"
   },
   {
    "duration": 4,
    "start_time": "2024-08-14T12:51:41.236Z"
   },
   {
    "duration": 35,
    "start_time": "2024-08-14T12:51:41.241Z"
   },
   {
    "duration": 12,
    "start_time": "2024-08-14T12:51:41.277Z"
   },
   {
    "duration": 5,
    "start_time": "2024-08-14T12:51:41.291Z"
   },
   {
    "duration": 22,
    "start_time": "2024-08-14T12:51:41.297Z"
   },
   {
    "duration": 615,
    "start_time": "2024-08-14T12:51:41.323Z"
   },
   {
    "duration": 59,
    "start_time": "2024-08-14T12:51:41.940Z"
   },
   {
    "duration": 1515,
    "start_time": "2024-08-14T12:51:42.001Z"
   },
   {
    "duration": 11,
    "start_time": "2024-08-14T12:51:43.517Z"
   },
   {
    "duration": 519,
    "start_time": "2024-08-14T12:51:43.530Z"
   },
   {
    "duration": 405,
    "start_time": "2024-08-14T12:51:44.050Z"
   },
   {
    "duration": 645,
    "start_time": "2024-08-14T12:51:44.456Z"
   },
   {
    "duration": 8,
    "start_time": "2024-08-14T12:51:45.102Z"
   },
   {
    "duration": 443,
    "start_time": "2024-08-14T12:51:45.112Z"
   },
   {
    "duration": 13,
    "start_time": "2024-08-14T12:51:45.557Z"
   },
   {
    "duration": 382,
    "start_time": "2024-08-14T12:51:45.572Z"
   },
   {
    "duration": 4,
    "start_time": "2024-08-14T12:51:45.956Z"
   },
   {
    "duration": 1295,
    "start_time": "2024-08-14T12:51:45.965Z"
   },
   {
    "duration": 2491,
    "start_time": "2024-08-14T12:51:47.261Z"
   },
   {
    "duration": 20475,
    "start_time": "2024-08-14T12:51:49.754Z"
   },
   {
    "duration": 210,
    "start_time": "2024-08-14T12:52:10.232Z"
   },
   {
    "duration": 0,
    "start_time": "2024-08-14T12:52:10.444Z"
   },
   {
    "duration": 0,
    "start_time": "2024-08-14T12:52:10.446Z"
   },
   {
    "duration": 0,
    "start_time": "2024-08-14T12:52:10.447Z"
   },
   {
    "duration": 0,
    "start_time": "2024-08-14T12:52:10.448Z"
   },
   {
    "duration": 679,
    "start_time": "2024-08-14T12:56:41.163Z"
   },
   {
    "duration": 13,
    "start_time": "2024-08-14T12:57:35.454Z"
   },
   {
    "duration": 128,
    "start_time": "2024-08-14T12:57:44.361Z"
   },
   {
    "duration": 395,
    "start_time": "2024-08-14T12:58:00.972Z"
   },
   {
    "duration": 12,
    "start_time": "2024-08-14T12:58:55.112Z"
   },
   {
    "duration": 71,
    "start_time": "2024-08-14T13:04:14.163Z"
   },
   {
    "duration": 89,
    "start_time": "2024-08-14T13:04:52.560Z"
   },
   {
    "duration": 131,
    "start_time": "2024-08-14T13:04:59.993Z"
   },
   {
    "duration": 75,
    "start_time": "2024-08-14T13:11:45.726Z"
   },
   {
    "duration": 0,
    "start_time": "2024-08-14T13:11:45.805Z"
   },
   {
    "duration": 0,
    "start_time": "2024-08-14T13:11:45.806Z"
   },
   {
    "duration": 0,
    "start_time": "2024-08-14T13:11:45.808Z"
   },
   {
    "duration": 0,
    "start_time": "2024-08-14T13:11:45.809Z"
   },
   {
    "duration": 0,
    "start_time": "2024-08-14T13:11:45.811Z"
   },
   {
    "duration": 0,
    "start_time": "2024-08-14T13:11:45.812Z"
   },
   {
    "duration": 0,
    "start_time": "2024-08-14T13:11:45.813Z"
   },
   {
    "duration": 0,
    "start_time": "2024-08-14T13:11:45.819Z"
   },
   {
    "duration": 0,
    "start_time": "2024-08-14T13:11:45.820Z"
   },
   {
    "duration": 0,
    "start_time": "2024-08-14T13:11:45.822Z"
   },
   {
    "duration": 0,
    "start_time": "2024-08-14T13:11:45.823Z"
   },
   {
    "duration": 0,
    "start_time": "2024-08-14T13:11:45.824Z"
   },
   {
    "duration": 0,
    "start_time": "2024-08-14T13:11:45.826Z"
   },
   {
    "duration": 0,
    "start_time": "2024-08-14T13:11:45.828Z"
   },
   {
    "duration": 0,
    "start_time": "2024-08-14T13:11:45.829Z"
   },
   {
    "duration": 0,
    "start_time": "2024-08-14T13:11:45.830Z"
   },
   {
    "duration": 0,
    "start_time": "2024-08-14T13:11:45.831Z"
   },
   {
    "duration": 0,
    "start_time": "2024-08-14T13:11:45.832Z"
   },
   {
    "duration": 0,
    "start_time": "2024-08-14T13:11:45.834Z"
   },
   {
    "duration": 0,
    "start_time": "2024-08-14T13:11:45.835Z"
   },
   {
    "duration": 0,
    "start_time": "2024-08-14T13:11:45.837Z"
   },
   {
    "duration": 0,
    "start_time": "2024-08-14T13:11:45.838Z"
   },
   {
    "duration": 0,
    "start_time": "2024-08-14T13:11:45.839Z"
   },
   {
    "duration": 0,
    "start_time": "2024-08-14T13:11:45.841Z"
   },
   {
    "duration": 0,
    "start_time": "2024-08-14T13:11:45.842Z"
   },
   {
    "duration": 0,
    "start_time": "2024-08-14T13:11:45.865Z"
   },
   {
    "duration": 0,
    "start_time": "2024-08-14T13:11:45.866Z"
   },
   {
    "duration": 0,
    "start_time": "2024-08-14T13:11:45.867Z"
   },
   {
    "duration": 0,
    "start_time": "2024-08-14T13:11:45.868Z"
   },
   {
    "duration": 0,
    "start_time": "2024-08-14T13:11:45.870Z"
   },
   {
    "duration": 0,
    "start_time": "2024-08-14T13:11:45.871Z"
   },
   {
    "duration": 87,
    "start_time": "2024-08-14T13:12:20.148Z"
   },
   {
    "duration": 0,
    "start_time": "2024-08-14T13:12:20.238Z"
   },
   {
    "duration": 0,
    "start_time": "2024-08-14T13:12:20.239Z"
   },
   {
    "duration": 0,
    "start_time": "2024-08-14T13:12:20.240Z"
   },
   {
    "duration": 0,
    "start_time": "2024-08-14T13:12:20.242Z"
   },
   {
    "duration": 0,
    "start_time": "2024-08-14T13:12:20.243Z"
   },
   {
    "duration": 0,
    "start_time": "2024-08-14T13:12:20.244Z"
   },
   {
    "duration": 0,
    "start_time": "2024-08-14T13:12:20.245Z"
   },
   {
    "duration": 0,
    "start_time": "2024-08-14T13:12:20.247Z"
   },
   {
    "duration": 0,
    "start_time": "2024-08-14T13:12:20.248Z"
   },
   {
    "duration": 0,
    "start_time": "2024-08-14T13:12:20.249Z"
   },
   {
    "duration": 0,
    "start_time": "2024-08-14T13:12:20.250Z"
   },
   {
    "duration": 0,
    "start_time": "2024-08-14T13:12:20.252Z"
   },
   {
    "duration": 0,
    "start_time": "2024-08-14T13:12:20.253Z"
   },
   {
    "duration": 0,
    "start_time": "2024-08-14T13:12:20.254Z"
   },
   {
    "duration": 0,
    "start_time": "2024-08-14T13:12:20.255Z"
   },
   {
    "duration": 0,
    "start_time": "2024-08-14T13:12:20.257Z"
   },
   {
    "duration": 0,
    "start_time": "2024-08-14T13:12:20.258Z"
   },
   {
    "duration": 0,
    "start_time": "2024-08-14T13:12:20.259Z"
   },
   {
    "duration": 0,
    "start_time": "2024-08-14T13:12:20.260Z"
   },
   {
    "duration": 0,
    "start_time": "2024-08-14T13:12:20.261Z"
   },
   {
    "duration": 0,
    "start_time": "2024-08-14T13:12:20.263Z"
   },
   {
    "duration": 0,
    "start_time": "2024-08-14T13:12:20.264Z"
   },
   {
    "duration": 0,
    "start_time": "2024-08-14T13:12:20.265Z"
   },
   {
    "duration": 0,
    "start_time": "2024-08-14T13:12:20.267Z"
   },
   {
    "duration": 0,
    "start_time": "2024-08-14T13:12:20.268Z"
   },
   {
    "duration": 0,
    "start_time": "2024-08-14T13:12:20.269Z"
   },
   {
    "duration": 0,
    "start_time": "2024-08-14T13:12:20.271Z"
   },
   {
    "duration": 0,
    "start_time": "2024-08-14T13:12:20.272Z"
   },
   {
    "duration": 0,
    "start_time": "2024-08-14T13:12:20.273Z"
   },
   {
    "duration": 0,
    "start_time": "2024-08-14T13:12:20.274Z"
   },
   {
    "duration": 0,
    "start_time": "2024-08-14T13:12:20.276Z"
   },
   {
    "duration": 61,
    "start_time": "2024-08-14T13:12:49.841Z"
   },
   {
    "duration": 2459,
    "start_time": "2024-08-14T13:13:13.660Z"
   },
   {
    "duration": 2435,
    "start_time": "2024-08-14T13:13:22.746Z"
   },
   {
    "duration": 1688,
    "start_time": "2024-08-14T13:13:25.183Z"
   },
   {
    "duration": 43,
    "start_time": "2024-08-14T13:13:26.872Z"
   },
   {
    "duration": 19,
    "start_time": "2024-08-14T13:13:26.917Z"
   },
   {
    "duration": 25,
    "start_time": "2024-08-14T13:13:26.937Z"
   },
   {
    "duration": 3,
    "start_time": "2024-08-14T13:13:26.964Z"
   },
   {
    "duration": 5,
    "start_time": "2024-08-14T13:13:26.969Z"
   },
   {
    "duration": 11,
    "start_time": "2024-08-14T13:13:26.976Z"
   },
   {
    "duration": 14,
    "start_time": "2024-08-14T13:13:26.989Z"
   },
   {
    "duration": 4,
    "start_time": "2024-08-14T13:13:27.005Z"
   },
   {
    "duration": 9,
    "start_time": "2024-08-14T13:13:27.010Z"
   },
   {
    "duration": 46,
    "start_time": "2024-08-14T13:13:27.020Z"
   },
   {
    "duration": 5,
    "start_time": "2024-08-14T13:13:27.068Z"
   },
   {
    "duration": 22,
    "start_time": "2024-08-14T13:13:27.075Z"
   },
   {
    "duration": 556,
    "start_time": "2024-08-14T13:13:27.099Z"
   },
   {
    "duration": 58,
    "start_time": "2024-08-14T13:13:27.656Z"
   },
   {
    "duration": 1604,
    "start_time": "2024-08-14T13:13:27.716Z"
   },
   {
    "duration": 15,
    "start_time": "2024-08-14T13:13:29.321Z"
   },
   {
    "duration": 507,
    "start_time": "2024-08-14T13:13:29.337Z"
   },
   {
    "duration": 414,
    "start_time": "2024-08-14T13:13:29.846Z"
   },
   {
    "duration": 658,
    "start_time": "2024-08-14T13:13:30.262Z"
   },
   {
    "duration": 8,
    "start_time": "2024-08-14T13:13:30.922Z"
   },
   {
    "duration": 433,
    "start_time": "2024-08-14T13:13:30.933Z"
   },
   {
    "duration": 10,
    "start_time": "2024-08-14T13:13:31.368Z"
   },
   {
    "duration": 426,
    "start_time": "2024-08-14T13:13:31.380Z"
   },
   {
    "duration": 5,
    "start_time": "2024-08-14T13:13:31.808Z"
   },
   {
    "duration": 1450,
    "start_time": "2024-08-14T13:13:31.814Z"
   },
   {
    "duration": 20404,
    "start_time": "2024-08-14T13:13:33.268Z"
   },
   {
    "duration": 611,
    "start_time": "2024-08-14T13:13:53.674Z"
   },
   {
    "duration": 12,
    "start_time": "2024-08-14T13:13:54.287Z"
   },
   {
    "duration": 480,
    "start_time": "2024-08-14T13:13:54.301Z"
   },
   {
    "duration": 13,
    "start_time": "2024-08-14T13:13:54.782Z"
   },
   {
    "duration": 200,
    "start_time": "2024-08-14T13:13:54.796Z"
   },
   {
    "duration": 4438,
    "start_time": "2024-08-14T19:10:01.164Z"
   },
   {
    "duration": 1785,
    "start_time": "2024-08-14T19:10:05.605Z"
   },
   {
    "duration": 41,
    "start_time": "2024-08-14T19:10:07.391Z"
   },
   {
    "duration": 17,
    "start_time": "2024-08-14T19:10:07.434Z"
   },
   {
    "duration": 16,
    "start_time": "2024-08-14T19:10:07.453Z"
   },
   {
    "duration": 4,
    "start_time": "2024-08-14T19:10:07.470Z"
   },
   {
    "duration": 18,
    "start_time": "2024-08-14T19:10:07.475Z"
   },
   {
    "duration": 17,
    "start_time": "2024-08-14T19:10:07.494Z"
   },
   {
    "duration": 14,
    "start_time": "2024-08-14T19:10:07.513Z"
   },
   {
    "duration": 17,
    "start_time": "2024-08-14T19:10:07.530Z"
   },
   {
    "duration": 9,
    "start_time": "2024-08-14T19:10:07.549Z"
   },
   {
    "duration": 12,
    "start_time": "2024-08-14T19:10:07.560Z"
   },
   {
    "duration": 10,
    "start_time": "2024-08-14T19:10:07.573Z"
   },
   {
    "duration": 19,
    "start_time": "2024-08-14T19:10:07.584Z"
   },
   {
    "duration": 565,
    "start_time": "2024-08-14T19:10:07.605Z"
   },
   {
    "duration": 51,
    "start_time": "2024-08-14T19:10:08.171Z"
   },
   {
    "duration": 1562,
    "start_time": "2024-08-14T19:10:08.223Z"
   },
   {
    "duration": 12,
    "start_time": "2024-08-14T19:10:09.786Z"
   },
   {
    "duration": 460,
    "start_time": "2024-08-14T19:10:09.800Z"
   },
   {
    "duration": 371,
    "start_time": "2024-08-14T19:10:10.262Z"
   },
   {
    "duration": 641,
    "start_time": "2024-08-14T19:10:10.634Z"
   },
   {
    "duration": 8,
    "start_time": "2024-08-14T19:10:11.276Z"
   },
   {
    "duration": 381,
    "start_time": "2024-08-14T19:10:11.285Z"
   },
   {
    "duration": 8,
    "start_time": "2024-08-14T19:10:11.667Z"
   },
   {
    "duration": 315,
    "start_time": "2024-08-14T19:10:11.677Z"
   },
   {
    "duration": 4,
    "start_time": "2024-08-14T19:10:11.993Z"
   },
   {
    "duration": 1350,
    "start_time": "2024-08-14T19:10:11.999Z"
   },
   {
    "duration": 19973,
    "start_time": "2024-08-14T19:10:13.352Z"
   },
   {
    "duration": 590,
    "start_time": "2024-08-14T19:10:33.327Z"
   },
   {
    "duration": 13,
    "start_time": "2024-08-14T19:10:33.920Z"
   },
   {
    "duration": 458,
    "start_time": "2024-08-14T19:10:33.946Z"
   },
   {
    "duration": 11,
    "start_time": "2024-08-14T19:10:34.406Z"
   },
   {
    "duration": 135,
    "start_time": "2024-08-14T19:10:34.418Z"
   },
   {
    "duration": 63,
    "start_time": "2024-08-15T07:21:14.413Z"
   },
   {
    "duration": 4105,
    "start_time": "2024-08-15T07:21:20.696Z"
   },
   {
    "duration": 1579,
    "start_time": "2024-08-15T07:21:24.804Z"
   },
   {
    "duration": 165,
    "start_time": "2024-08-15T07:21:26.386Z"
   },
   {
    "duration": 35,
    "start_time": "2024-08-15T07:21:26.552Z"
   },
   {
    "duration": 14,
    "start_time": "2024-08-15T07:21:26.591Z"
   },
   {
    "duration": 2,
    "start_time": "2024-08-15T07:21:26.607Z"
   },
   {
    "duration": 7,
    "start_time": "2024-08-15T07:21:26.611Z"
   },
   {
    "duration": 15,
    "start_time": "2024-08-15T07:21:26.619Z"
   },
   {
    "duration": 15,
    "start_time": "2024-08-15T07:21:26.635Z"
   },
   {
    "duration": 6,
    "start_time": "2024-08-15T07:21:26.668Z"
   },
   {
    "duration": 15,
    "start_time": "2024-08-15T07:21:26.676Z"
   },
   {
    "duration": 13,
    "start_time": "2024-08-15T07:21:26.692Z"
   },
   {
    "duration": 6,
    "start_time": "2024-08-15T07:21:26.707Z"
   },
   {
    "duration": 56,
    "start_time": "2024-08-15T07:21:26.716Z"
   },
   {
    "duration": 654,
    "start_time": "2024-08-15T07:21:26.774Z"
   },
   {
    "duration": 68,
    "start_time": "2024-08-15T07:21:27.430Z"
   },
   {
    "duration": 1633,
    "start_time": "2024-08-15T07:21:27.504Z"
   },
   {
    "duration": 13,
    "start_time": "2024-08-15T07:21:29.139Z"
   },
   {
    "duration": 150,
    "start_time": "2024-08-15T07:21:29.153Z"
   },
   {
    "duration": 0,
    "start_time": "2024-08-15T07:21:29.304Z"
   },
   {
    "duration": 0,
    "start_time": "2024-08-15T07:21:29.306Z"
   },
   {
    "duration": 0,
    "start_time": "2024-08-15T07:21:29.307Z"
   },
   {
    "duration": 0,
    "start_time": "2024-08-15T07:21:29.308Z"
   },
   {
    "duration": 0,
    "start_time": "2024-08-15T07:21:29.309Z"
   },
   {
    "duration": 0,
    "start_time": "2024-08-15T07:21:29.310Z"
   },
   {
    "duration": 0,
    "start_time": "2024-08-15T07:21:29.311Z"
   },
   {
    "duration": 0,
    "start_time": "2024-08-15T07:21:29.312Z"
   },
   {
    "duration": 0,
    "start_time": "2024-08-15T07:21:29.313Z"
   },
   {
    "duration": 0,
    "start_time": "2024-08-15T07:21:29.315Z"
   },
   {
    "duration": 0,
    "start_time": "2024-08-15T07:21:29.316Z"
   },
   {
    "duration": 0,
    "start_time": "2024-08-15T07:21:29.317Z"
   },
   {
    "duration": 0,
    "start_time": "2024-08-15T07:21:29.318Z"
   },
   {
    "duration": 0,
    "start_time": "2024-08-15T07:21:29.319Z"
   },
   {
    "duration": 0,
    "start_time": "2024-08-15T07:21:29.321Z"
   },
   {
    "duration": 8,
    "start_time": "2024-08-15T07:21:53.935Z"
   },
   {
    "duration": 2560,
    "start_time": "2024-08-15T07:32:24.278Z"
   },
   {
    "duration": 1255,
    "start_time": "2024-08-15T07:32:26.840Z"
   },
   {
    "duration": 43,
    "start_time": "2024-08-15T07:32:28.098Z"
   },
   {
    "duration": 20,
    "start_time": "2024-08-15T07:32:28.144Z"
   },
   {
    "duration": 13,
    "start_time": "2024-08-15T07:32:28.166Z"
   },
   {
    "duration": 14,
    "start_time": "2024-08-15T07:32:28.181Z"
   },
   {
    "duration": 67,
    "start_time": "2024-08-15T07:32:28.196Z"
   },
   {
    "duration": 31,
    "start_time": "2024-08-15T07:32:28.264Z"
   },
   {
    "duration": 35,
    "start_time": "2024-08-15T07:32:28.296Z"
   },
   {
    "duration": 11,
    "start_time": "2024-08-15T07:32:28.333Z"
   },
   {
    "duration": 19,
    "start_time": "2024-08-15T07:32:28.346Z"
   },
   {
    "duration": 22,
    "start_time": "2024-08-15T07:32:28.367Z"
   },
   {
    "duration": 45,
    "start_time": "2024-08-15T07:32:28.392Z"
   },
   {
    "duration": 43,
    "start_time": "2024-08-15T07:32:28.439Z"
   },
   {
    "duration": 591,
    "start_time": "2024-08-15T07:32:28.484Z"
   },
   {
    "duration": 52,
    "start_time": "2024-08-15T07:32:29.076Z"
   },
   {
    "duration": 1625,
    "start_time": "2024-08-15T07:32:29.130Z"
   },
   {
    "duration": 25,
    "start_time": "2024-08-15T07:32:30.757Z"
   },
   {
    "duration": 41,
    "start_time": "2024-08-15T07:32:30.784Z"
   },
   {
    "duration": 633,
    "start_time": "2024-08-15T07:32:30.827Z"
   },
   {
    "duration": 439,
    "start_time": "2024-08-15T07:32:31.462Z"
   },
   {
    "duration": 708,
    "start_time": "2024-08-15T07:32:31.903Z"
   },
   {
    "duration": 9,
    "start_time": "2024-08-15T07:32:32.612Z"
   },
   {
    "duration": 394,
    "start_time": "2024-08-15T07:32:32.622Z"
   },
   {
    "duration": 9,
    "start_time": "2024-08-15T07:32:33.018Z"
   },
   {
    "duration": 342,
    "start_time": "2024-08-15T07:32:33.029Z"
   },
   {
    "duration": 5,
    "start_time": "2024-08-15T07:32:33.373Z"
   },
   {
    "duration": 1356,
    "start_time": "2024-08-15T07:32:33.380Z"
   },
   {
    "duration": 20169,
    "start_time": "2024-08-15T07:32:34.738Z"
   },
   {
    "duration": 623,
    "start_time": "2024-08-15T07:32:54.909Z"
   },
   {
    "duration": 12,
    "start_time": "2024-08-15T07:32:55.534Z"
   },
   {
    "duration": 504,
    "start_time": "2024-08-15T07:32:55.547Z"
   },
   {
    "duration": 18,
    "start_time": "2024-08-15T07:32:56.052Z"
   },
   {
    "duration": 147,
    "start_time": "2024-08-15T07:32:56.072Z"
   },
   {
    "duration": 6,
    "start_time": "2024-08-15T07:36:41.401Z"
   },
   {
    "duration": 128,
    "start_time": "2024-08-15T07:40:29.236Z"
   },
   {
    "duration": 6,
    "start_time": "2024-08-15T07:41:14.703Z"
   },
   {
    "duration": 4,
    "start_time": "2024-08-15T07:41:44.503Z"
   },
   {
    "duration": 140,
    "start_time": "2024-08-15T07:41:51.204Z"
   },
   {
    "duration": 150,
    "start_time": "2024-08-15T07:56:15.326Z"
   },
   {
    "duration": 5,
    "start_time": "2024-08-15T08:02:30.148Z"
   },
   {
    "duration": 1179,
    "start_time": "2024-08-15T08:02:33.643Z"
   },
   {
    "duration": 1782,
    "start_time": "2024-08-15T08:03:00.242Z"
   },
   {
    "duration": 2814,
    "start_time": "2024-08-15T08:07:03.016Z"
   },
   {
    "duration": 1795,
    "start_time": "2024-08-15T08:07:05.832Z"
   },
   {
    "duration": 62,
    "start_time": "2024-08-15T08:07:07.629Z"
   },
   {
    "duration": 19,
    "start_time": "2024-08-15T08:07:07.694Z"
   },
   {
    "duration": 12,
    "start_time": "2024-08-15T08:07:07.715Z"
   },
   {
    "duration": 24,
    "start_time": "2024-08-15T08:07:07.729Z"
   },
   {
    "duration": 35,
    "start_time": "2024-08-15T08:07:07.755Z"
   },
   {
    "duration": 13,
    "start_time": "2024-08-15T08:07:07.792Z"
   },
   {
    "duration": 17,
    "start_time": "2024-08-15T08:07:07.807Z"
   },
   {
    "duration": 5,
    "start_time": "2024-08-15T08:07:07.827Z"
   },
   {
    "duration": 40,
    "start_time": "2024-08-15T08:07:07.833Z"
   },
   {
    "duration": 20,
    "start_time": "2024-08-15T08:07:07.877Z"
   },
   {
    "duration": 19,
    "start_time": "2024-08-15T08:07:07.899Z"
   },
   {
    "duration": 31,
    "start_time": "2024-08-15T08:07:07.920Z"
   },
   {
    "duration": 675,
    "start_time": "2024-08-15T08:07:07.953Z"
   },
   {
    "duration": 73,
    "start_time": "2024-08-15T08:07:08.629Z"
   },
   {
    "duration": 1650,
    "start_time": "2024-08-15T08:07:08.706Z"
   },
   {
    "duration": 17,
    "start_time": "2024-08-15T08:07:10.357Z"
   },
   {
    "duration": 232,
    "start_time": "2024-08-15T08:07:10.380Z"
   },
   {
    "duration": 520,
    "start_time": "2024-08-15T08:07:10.613Z"
   },
   {
    "duration": 485,
    "start_time": "2024-08-15T08:07:11.135Z"
   },
   {
    "duration": 907,
    "start_time": "2024-08-15T08:07:11.622Z"
   },
   {
    "duration": 9,
    "start_time": "2024-08-15T08:07:12.531Z"
   },
   {
    "duration": 387,
    "start_time": "2024-08-15T08:07:12.542Z"
   },
   {
    "duration": 8,
    "start_time": "2024-08-15T08:07:12.931Z"
   },
   {
    "duration": 385,
    "start_time": "2024-08-15T08:07:12.940Z"
   },
   {
    "duration": 4,
    "start_time": "2024-08-15T08:07:13.327Z"
   },
   {
    "duration": 1460,
    "start_time": "2024-08-15T08:07:13.334Z"
   },
   {
    "duration": 1785,
    "start_time": "2024-08-15T08:07:14.800Z"
   },
   {
    "duration": 859,
    "start_time": "2024-08-15T08:07:16.587Z"
   },
   {
    "duration": 13,
    "start_time": "2024-08-15T08:07:17.448Z"
   },
   {
    "duration": 472,
    "start_time": "2024-08-15T08:07:17.462Z"
   },
   {
    "duration": 11,
    "start_time": "2024-08-15T08:07:17.936Z"
   },
   {
    "duration": 176,
    "start_time": "2024-08-15T08:07:17.949Z"
   },
   {
    "duration": 1216,
    "start_time": "2024-08-15T08:32:56.633Z"
   },
   {
    "duration": 8,
    "start_time": "2024-08-15T08:33:08.576Z"
   },
   {
    "duration": 353,
    "start_time": "2024-08-15T08:34:29.133Z"
   },
   {
    "duration": 285,
    "start_time": "2024-08-15T08:44:10.270Z"
   },
   {
    "duration": 329,
    "start_time": "2024-08-15T08:45:08.727Z"
   },
   {
    "duration": 2798,
    "start_time": "2024-08-15T08:45:39.396Z"
   },
   {
    "duration": 1333,
    "start_time": "2024-08-15T08:45:42.196Z"
   },
   {
    "duration": 87,
    "start_time": "2024-08-15T08:45:43.530Z"
   },
   {
    "duration": 18,
    "start_time": "2024-08-15T08:45:43.619Z"
   },
   {
    "duration": 70,
    "start_time": "2024-08-15T08:45:43.638Z"
   },
   {
    "duration": 4,
    "start_time": "2024-08-15T08:45:43.709Z"
   },
   {
    "duration": 15,
    "start_time": "2024-08-15T08:45:43.714Z"
   },
   {
    "duration": 16,
    "start_time": "2024-08-15T08:45:43.730Z"
   },
   {
    "duration": 13,
    "start_time": "2024-08-15T08:45:43.747Z"
   },
   {
    "duration": 20,
    "start_time": "2024-08-15T08:45:43.763Z"
   },
   {
    "duration": 11,
    "start_time": "2024-08-15T08:45:43.788Z"
   },
   {
    "duration": 37,
    "start_time": "2024-08-15T08:45:43.800Z"
   },
   {
    "duration": 7,
    "start_time": "2024-08-15T08:45:43.838Z"
   },
   {
    "duration": 28,
    "start_time": "2024-08-15T08:45:43.847Z"
   },
   {
    "duration": 571,
    "start_time": "2024-08-15T08:45:43.877Z"
   },
   {
    "duration": 65,
    "start_time": "2024-08-15T08:45:44.450Z"
   },
   {
    "duration": 1719,
    "start_time": "2024-08-15T08:45:44.517Z"
   },
   {
    "duration": 5,
    "start_time": "2024-08-15T08:45:46.237Z"
   },
   {
    "duration": 223,
    "start_time": "2024-08-15T08:45:46.244Z"
   },
   {
    "duration": 4,
    "start_time": "2024-08-15T08:45:46.475Z"
   },
   {
    "duration": 273,
    "start_time": "2024-08-15T08:45:46.483Z"
   },
   {
    "duration": 466,
    "start_time": "2024-08-15T08:45:46.758Z"
   },
   {
    "duration": 463,
    "start_time": "2024-08-15T08:45:47.226Z"
   },
   {
    "duration": 806,
    "start_time": "2024-08-15T08:45:47.692Z"
   },
   {
    "duration": 9,
    "start_time": "2024-08-15T08:45:48.501Z"
   },
   {
    "duration": 326,
    "start_time": "2024-08-15T08:45:48.511Z"
   },
   {
    "duration": 9,
    "start_time": "2024-08-15T08:45:48.838Z"
   },
   {
    "duration": 397,
    "start_time": "2024-08-15T08:45:48.850Z"
   },
   {
    "duration": 4,
    "start_time": "2024-08-15T08:45:49.249Z"
   },
   {
    "duration": 1325,
    "start_time": "2024-08-15T08:45:49.254Z"
   },
   {
    "duration": 1706,
    "start_time": "2024-08-15T08:45:50.581Z"
   },
   {
    "duration": 810,
    "start_time": "2024-08-15T08:45:52.291Z"
   },
   {
    "duration": 20,
    "start_time": "2024-08-15T08:45:53.103Z"
   },
   {
    "duration": 422,
    "start_time": "2024-08-15T08:45:53.124Z"
   },
   {
    "duration": 22,
    "start_time": "2024-08-15T08:45:53.547Z"
   },
   {
    "duration": 143,
    "start_time": "2024-08-15T08:45:53.572Z"
   },
   {
    "duration": 301,
    "start_time": "2024-08-15T08:48:41.886Z"
   },
   {
    "duration": 4350,
    "start_time": "2024-08-15T17:08:59.044Z"
   },
   {
    "duration": 1886,
    "start_time": "2024-08-15T17:09:03.396Z"
   },
   {
    "duration": 169,
    "start_time": "2024-08-15T17:09:05.284Z"
   },
   {
    "duration": 19,
    "start_time": "2024-08-15T17:09:05.455Z"
   },
   {
    "duration": 26,
    "start_time": "2024-08-15T17:09:05.477Z"
   },
   {
    "duration": 3,
    "start_time": "2024-08-15T17:09:05.505Z"
   },
   {
    "duration": 6,
    "start_time": "2024-08-15T17:09:05.510Z"
   },
   {
    "duration": 20,
    "start_time": "2024-08-15T17:09:05.517Z"
   },
   {
    "duration": 21,
    "start_time": "2024-08-15T17:09:05.539Z"
   },
   {
    "duration": 5,
    "start_time": "2024-08-15T17:09:05.562Z"
   },
   {
    "duration": 12,
    "start_time": "2024-08-15T17:09:05.568Z"
   },
   {
    "duration": 12,
    "start_time": "2024-08-15T17:09:05.582Z"
   },
   {
    "duration": 9,
    "start_time": "2024-08-15T17:09:05.595Z"
   },
   {
    "duration": 46,
    "start_time": "2024-08-15T17:09:05.608Z"
   },
   {
    "duration": 544,
    "start_time": "2024-08-15T17:09:05.656Z"
   },
   {
    "duration": 58,
    "start_time": "2024-08-15T17:09:06.202Z"
   },
   {
    "duration": 1537,
    "start_time": "2024-08-15T17:09:06.262Z"
   },
   {
    "duration": 5,
    "start_time": "2024-08-15T17:09:07.800Z"
   },
   {
    "duration": 217,
    "start_time": "2024-08-15T17:09:07.807Z"
   },
   {
    "duration": 5,
    "start_time": "2024-08-15T17:09:08.026Z"
   },
   {
    "duration": 283,
    "start_time": "2024-08-15T17:09:08.033Z"
   },
   {
    "duration": 422,
    "start_time": "2024-08-15T17:09:08.318Z"
   },
   {
    "duration": 411,
    "start_time": "2024-08-15T17:09:08.741Z"
   },
   {
    "duration": 735,
    "start_time": "2024-08-15T17:09:09.154Z"
   },
   {
    "duration": 12,
    "start_time": "2024-08-15T17:09:09.891Z"
   },
   {
    "duration": 329,
    "start_time": "2024-08-15T17:09:09.906Z"
   },
   {
    "duration": 11,
    "start_time": "2024-08-15T17:09:10.237Z"
   },
   {
    "duration": 361,
    "start_time": "2024-08-15T17:09:10.249Z"
   },
   {
    "duration": 3,
    "start_time": "2024-08-15T17:09:10.612Z"
   },
   {
    "duration": 1228,
    "start_time": "2024-08-15T17:09:10.617Z"
   },
   {
    "duration": 1490,
    "start_time": "2024-08-15T17:09:11.847Z"
   },
   {
    "duration": 734,
    "start_time": "2024-08-15T17:09:13.338Z"
   },
   {
    "duration": 17,
    "start_time": "2024-08-15T17:09:14.074Z"
   },
   {
    "duration": 368,
    "start_time": "2024-08-15T17:09:14.092Z"
   },
   {
    "duration": 12,
    "start_time": "2024-08-15T17:09:14.462Z"
   },
   {
    "duration": 137,
    "start_time": "2024-08-15T17:09:14.476Z"
   }
  ],
  "kernelspec": {
   "display_name": "Python 3 (ipykernel)",
   "language": "python",
   "name": "python3"
  },
  "language_info": {
   "codemirror_mode": {
    "name": "ipython",
    "version": 3
   },
   "file_extension": ".py",
   "mimetype": "text/x-python",
   "name": "python",
   "nbconvert_exporter": "python",
   "pygments_lexer": "ipython3",
   "version": "3.9.7"
  },
  "toc": {
   "base_numbering": 1,
   "nav_menu": {
    "height": "96px",
    "width": "337px"
   },
   "number_sections": true,
   "sideBar": true,
   "skip_h1_title": true,
   "title_cell": "Table of Contents",
   "title_sidebar": "Contents",
   "toc_cell": false,
   "toc_position": {},
   "toc_section_display": true,
   "toc_window_display": true
  }
 },
 "nbformat": 4,
 "nbformat_minor": 2
}
